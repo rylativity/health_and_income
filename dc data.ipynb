{
 "cells": [
  {
   "cell_type": "code",
   "execution_count": 1,
   "metadata": {},
   "outputs": [],
   "source": [
    "### THIS IS THE SAME AS WHAT WAS DONE FOR ALL OF THE OTHER DATA\n",
    "###... DC HAD TO BE DONE SEPARATELY BECAUSE IT IS NOT WITHIN A COUNTY\n",
    "###... make sure you've read through the cleaning_health_data_final notebook if you dont understand a step\n",
    "\n",
    "import pandas as pd\n",
    "import regex as re"
   ]
  },
  {
   "cell_type": "code",
   "execution_count": 4,
   "metadata": {},
   "outputs": [],
   "source": [
    "df = pd.read_csv(\"./datasets/500_Cities__Local_Data_for_Better_Health__2017_release.csv\")"
   ]
  },
  {
   "cell_type": "code",
   "execution_count": 5,
   "metadata": {},
   "outputs": [],
   "source": [
    "dc = df[df[\"StateAbbr\"] == \"DC\"]"
   ]
  },
  {
   "cell_type": "code",
   "execution_count": 6,
   "metadata": {},
   "outputs": [],
   "source": [
    "dc_census = dc[dc['GeographicLevel'] == \"Census Tract\"]"
   ]
  },
  {
   "cell_type": "code",
   "execution_count": 7,
   "metadata": {
    "scrolled": true
   },
   "outputs": [
    {
     "data": {
      "text/plain": [
       "'-77.0607838311'"
      ]
     },
     "execution_count": 7,
     "metadata": {},
     "output_type": "execute_result"
    }
   ],
   "source": [
    "re.findall(\"-\\d+.\\d+\", dc_census.GeoLocation[230262])[0] # this is how the regex will work for Long"
   ]
  },
  {
   "cell_type": "code",
   "execution_count": 8,
   "metadata": {
    "scrolled": false
   },
   "outputs": [
    {
     "name": "stderr",
     "output_type": "stream",
     "text": [
      "/home/ryan/anaconda3/lib/python3.6/site-packages/ipykernel_launcher.py:1: SettingWithCopyWarning: \n",
      "A value is trying to be set on a copy of a slice from a DataFrame.\n",
      "Try using .loc[row_indexer,col_indexer] = value instead\n",
      "\n",
      "See the caveats in the documentation: http://pandas.pydata.org/pandas-docs/stable/indexing.html#indexing-view-versus-copy\n",
      "  \"\"\"Entry point for launching an IPython kernel.\n"
     ]
    }
   ],
   "source": [
    "dc_census['Latitude'] = [float(re.findall(\"(\\d+.\\d+),\", dc_census.GeoLocation[i])[0]) for i in dc_census.index] # regex for lat"
   ]
  },
  {
   "cell_type": "code",
   "execution_count": 9,
   "metadata": {},
   "outputs": [
    {
     "name": "stderr",
     "output_type": "stream",
     "text": [
      "/home/ryan/anaconda3/lib/python3.6/site-packages/ipykernel_launcher.py:1: SettingWithCopyWarning: \n",
      "A value is trying to be set on a copy of a slice from a DataFrame.\n",
      "Try using .loc[row_indexer,col_indexer] = value instead\n",
      "\n",
      "See the caveats in the documentation: http://pandas.pydata.org/pandas-docs/stable/indexing.html#indexing-view-versus-copy\n",
      "  \"\"\"Entry point for launching an IPython kernel.\n"
     ]
    }
   ],
   "source": [
    "dc_census['Longitude'] = [float(re.findall(\"-\\d+.\\d+\", dc_census.GeoLocation[i])[0]) for i in dc_census.index] # regex for long"
   ]
  },
  {
   "cell_type": "code",
   "execution_count": 10,
   "metadata": {
    "scrolled": false
   },
   "outputs": [
    {
     "data": {
      "text/plain": [
       "Visits to doctor for routine checkup within the past Year among adults aged >=18 Years                                                                                                            179\n",
       "High cholesterol among adults aged >=18 Years who have been screened in the past 5 Years                                                                                                          179\n",
       "Binge drinking among adults aged >=18 Years                                                                                                                                                       179\n",
       "Current lack of health insurance among adults aged 18–64 Years                                                                                                                                    179\n",
       "Current asthma among adults aged >=18 Years                                                                                                                                                       179\n",
       "Physical health not good for >=14 days among adults aged >=18 Years                                                                                                                               179\n",
       "Current smoking among adults aged >=18 Years                                                                                                                                                      179\n",
       "Chronic kidney disease among adults aged >=18 Years                                                                                                                                               179\n",
       "Cholesterol screening among adults aged >=18 Years                                                                                                                                                179\n",
       "Obesity among adults aged >=18 Years                                                                                                                                                              179\n",
       "High blood pressure among adults aged >=18 Years                                                                                                                                                  179\n",
       "Cancer (excluding skin cancer) among adults aged >=18 Years                                                                                                                                       179\n",
       "Chronic obstructive pulmonary disease among adults aged >=18 Years                                                                                                                                179\n",
       "Diagnosed diabetes among adults aged >=18 Years                                                                                                                                                   179\n",
       "Arthritis among adults aged >=18 Years                                                                                                                                                            179\n",
       "Mental health not good for >=14 days among adults aged >=18 Years                                                                                                                                 179\n",
       "Fecal occult blood test, sigmoidoscopy, or colonoscopy among adults aged 50–75 Years                                                                                                              179\n",
       "Papanicolaou smear use among adult women aged 21–65 Years                                                                                                                                         179\n",
       "No leisure-time physical activity among adults aged >=18 Years                                                                                                                                    179\n",
       "Visits to dentist or dental clinic among adults aged >=18 Years                                                                                                                                   179\n",
       "Taking medicine for high blood pressure control among adults aged >=18 Years with high blood pressure                                                                                             179\n",
       "Sleeping less than 7 hours among adults aged >=18 Years                                                                                                                                           179\n",
       "Coronary heart disease among adults aged >=18 Years                                                                                                                                               179\n",
       "Stroke among adults aged >=18 Years                                                                                                                                                               179\n",
       "Mammography use among women aged 50–74 Years                                                                                                                                                      179\n",
       "Older adult men aged >=65 Years who are up to date on a core set of clinical preventive services: Flu shot past Year, PPV shot ever, Colorectal cancer screening                                  178\n",
       "Older adult women aged >=65 Years who are up to date on a core set of clinical preventive services: Flu shot past Year, PPV shot ever, Colorectal cancer screening, and Mammogram past 2 Years    178\n",
       "All teeth lost among adults aged >=65 Years                                                                                                                                                       178\n",
       "Name: Measure, dtype: int64"
      ]
     },
     "execution_count": 10,
     "metadata": {},
     "output_type": "execute_result"
    }
   ],
   "source": [
    "dc_census.Measure.value_counts()"
   ]
  },
  {
   "cell_type": "code",
   "execution_count": 11,
   "metadata": {},
   "outputs": [
    {
     "data": {
      "text/plain": [
       "'Visits to doctor for routine checkup within the past Year among adults aged >=18 Years'"
      ]
     },
     "execution_count": 11,
     "metadata": {},
     "output_type": "execute_result"
    }
   ],
   "source": [
    "dc_census.Measure.value_counts().index[0]"
   ]
  },
  {
   "cell_type": "code",
   "execution_count": 12,
   "metadata": {},
   "outputs": [],
   "source": [
    "measures_of_interest = df.Measure.value_counts().index"
   ]
  },
  {
   "cell_type": "code",
   "execution_count": 13,
   "metadata": {
    "scrolled": true
   },
   "outputs": [],
   "source": [
    "dc_df_list = [dc_census[dc_census[\"Measure\"] == x] for x in measures_of_interest] # making a df for each measure"
   ]
  },
  {
   "cell_type": "code",
   "execution_count": 14,
   "metadata": {},
   "outputs": [],
   "source": [
    "metric_dfs = []\n",
    "for df in dc_df_list:\n",
    "    df.reset_index(inplace=True, drop=True)\n",
    "    temp = pd.DataFrame({df.MeasureId[0]:df.Data_Value, \"UniqueID\":df.UniqueID,\n",
    "                                       \"geometry\":df.GeoLocation, \"state\":df.StateAbbr,\n",
    "                            \"pop\":df.PopulationCount, \"longitude\": df.Longitude,\n",
    "                           \"latitude\":df.Latitude})\n",
    "    metric_dfs.append(temp)"
   ]
  },
  {
   "cell_type": "code",
   "execution_count": 15,
   "metadata": {
    "scrolled": true
   },
   "outputs": [
    {
     "data": {
      "text/plain": [
       "'11500'"
      ]
     },
     "execution_count": 15,
     "metadata": {},
     "output_type": "execute_result"
    }
   ],
   "source": [
    "metric_dfs[0].UniqueID[3][0:5]"
   ]
  },
  {
   "cell_type": "code",
   "execution_count": 16,
   "metadata": {
    "scrolled": true
   },
   "outputs": [
    {
     "data": {
      "text/plain": [
       "179"
      ]
     },
     "execution_count": 16,
     "metadata": {},
     "output_type": "execute_result"
    }
   ],
   "source": [
    "metric_dfs[0].UniqueID.value_counts().sum()"
   ]
  },
  {
   "cell_type": "code",
   "execution_count": 17,
   "metadata": {},
   "outputs": [],
   "source": [
    "master = pd.merge(metric_dfs[0],metric_dfs[1], how='left',on=\"UniqueID\")"
   ]
  },
  {
   "cell_type": "code",
   "execution_count": 18,
   "metadata": {},
   "outputs": [],
   "source": [
    "for i in metric_dfs[2:]:\n",
    "    master = master.merge(i, how = \"left\",on=\"UniqueID\")"
   ]
  },
  {
   "cell_type": "code",
   "execution_count": 19,
   "metadata": {
    "scrolled": true
   },
   "outputs": [
    {
     "data": {
      "text/plain": [
       "Index(['DENTAL', 'UniqueID', 'geometry_x', 'state_x', 'pop_x', 'longitude_x',\n",
       "       'latitude_x', 'SLEEP', 'geometry_y', 'state_y',\n",
       "       ...\n",
       "       'state_x', 'pop_x', 'longitude_x', 'latitude_x', 'COREW', 'geometry_y',\n",
       "       'state_y', 'pop_y', 'longitude_y', 'latitude_y'],\n",
       "      dtype='object', length=169)"
      ]
     },
     "execution_count": 19,
     "metadata": {},
     "output_type": "execute_result"
    }
   ],
   "source": [
    "master.columns"
   ]
  },
  {
   "cell_type": "code",
   "execution_count": 20,
   "metadata": {},
   "outputs": [],
   "source": [
    "master = master.T.drop_duplicates().T"
   ]
  },
  {
   "cell_type": "code",
   "execution_count": 24,
   "metadata": {},
   "outputs": [
    {
     "data": {
      "text/plain": [
       "Index(['DENTAL', 'UniqueID', 'geometry_x', 'state_x', 'pop_x', 'longitude_x',\n",
       "       'latitude_x', 'SLEEP', 'BPHIGH', 'COPD', 'CANCER', 'CHECKUP',\n",
       "       'DIABETES', 'CSMOKING', 'CHOLSCREEN', 'PHLTH', 'STROKE', 'KIDNEY',\n",
       "       'CHD', 'HIGHCHOL', 'CASTHMA', 'BINGE', 'LPA', 'BPMED', 'ARTHRITIS',\n",
       "       'MHLTH', 'OBESITY', 'ACCESS2', 'PAPTEST', 'COLON_SCREEN', 'MAMMOUSE',\n",
       "       'TEETHLOST', 'geometry', 'state', 'population', 'longitude', 'latitude',\n",
       "       'COREM', 'COREW'],\n",
       "      dtype='object')"
      ]
     },
     "execution_count": 24,
     "metadata": {},
     "output_type": "execute_result"
    }
   ],
   "source": [
    "master.columns"
   ]
  },
  {
   "cell_type": "code",
   "execution_count": 21,
   "metadata": {
    "scrolled": true
   },
   "outputs": [
    {
     "data": {
      "text/plain": [
       "Index(['DENTAL', 'UniqueID', 'geometry_x', 'state_x', 'pop_x', 'longitude_x',\n",
       "       'latitude_x', 'SLEEP', 'BPHIGH', 'COPD', 'CANCER', 'CHECKUP',\n",
       "       'DIABETES', 'CSMOKING', 'CHOLSCREEN', 'PHLTH', 'STROKE', 'KIDNEY',\n",
       "       'CHD', 'HIGHCHOL', 'CASTHMA', 'BINGE', 'LPA', 'BPMED', 'ARTHRITIS',\n",
       "       'MHLTH', 'OBESITY', 'ACCESS2', 'PAPTEST', 'COLON_SCREEN', 'MAMMOUSE',\n",
       "       'TEETHLOST', 'geometry_y', 'state_y', 'pop_y', 'longitude_y',\n",
       "       'latitude_y', 'COREM', 'COREW'],\n",
       "      dtype='object')"
      ]
     },
     "execution_count": 21,
     "metadata": {},
     "output_type": "execute_result"
    }
   ],
   "source": [
    "master.columns"
   ]
  },
  {
   "cell_type": "code",
   "execution_count": 25,
   "metadata": {},
   "outputs": [],
   "source": [
    "master.rename({\"geometry_y\":\"geometry\",\"state_y\":\"state\",\"pop_y\":\"population\",\"longitude_y\":\"longitude\",\n",
    "              \"latitude_y\":\"latitude\"}, axis = 1, inplace = True)\n",
    "master.drop(['geometry_x', 'state_x', 'pop_x', 'longitude_x','latitude_x'], axis = 1, inplace = True)"
   ]
  },
  {
   "cell_type": "code",
   "execution_count": 26,
   "metadata": {
    "scrolled": false
   },
   "outputs": [
    {
     "data": {
      "text/plain": [
       "((178, 34), (179, 34))"
      ]
     },
     "execution_count": 26,
     "metadata": {},
     "output_type": "execute_result"
    }
   ],
   "source": [
    "master.dropna().shape, master.shape"
   ]
  },
  {
   "cell_type": "code",
   "execution_count": 27,
   "metadata": {},
   "outputs": [],
   "source": [
    "master.dropna(inplace=True)"
   ]
  },
  {
   "cell_type": "code",
   "execution_count": 28,
   "metadata": {},
   "outputs": [],
   "source": [
    "import addfips\n",
    "from progressbar import ProgressBar"
   ]
  },
  {
   "cell_type": "code",
   "execution_count": 29,
   "metadata": {},
   "outputs": [],
   "source": [
    "master['fips'] = [x[0:5] for x in master.UniqueID]"
   ]
  },
  {
   "cell_type": "code",
   "execution_count": 32,
   "metadata": {
    "scrolled": true
   },
   "outputs": [
    {
     "data": {
      "text/html": [
       "<div>\n",
       "<style scoped>\n",
       "    .dataframe tbody tr th:only-of-type {\n",
       "        vertical-align: middle;\n",
       "    }\n",
       "\n",
       "    .dataframe tbody tr th {\n",
       "        vertical-align: top;\n",
       "    }\n",
       "\n",
       "    .dataframe thead th {\n",
       "        text-align: right;\n",
       "    }\n",
       "</style>\n",
       "<table border=\"1\" class=\"dataframe\">\n",
       "  <thead>\n",
       "    <tr style=\"text-align: right;\">\n",
       "      <th></th>\n",
       "      <th>DENTAL</th>\n",
       "      <th>UniqueID</th>\n",
       "      <th>SLEEP</th>\n",
       "      <th>BPHIGH</th>\n",
       "      <th>COPD</th>\n",
       "      <th>CANCER</th>\n",
       "      <th>CHECKUP</th>\n",
       "      <th>DIABETES</th>\n",
       "      <th>CSMOKING</th>\n",
       "      <th>CHOLSCREEN</th>\n",
       "      <th>...</th>\n",
       "      <th>MAMMOUSE</th>\n",
       "      <th>TEETHLOST</th>\n",
       "      <th>geometry</th>\n",
       "      <th>state</th>\n",
       "      <th>population</th>\n",
       "      <th>longitude</th>\n",
       "      <th>latitude</th>\n",
       "      <th>COREM</th>\n",
       "      <th>COREW</th>\n",
       "      <th>fips</th>\n",
       "    </tr>\n",
       "  </thead>\n",
       "  <tbody>\n",
       "    <tr>\n",
       "      <th>0</th>\n",
       "      <td>86.6</td>\n",
       "      <td>1150000-11001000100</td>\n",
       "      <td>24.6</td>\n",
       "      <td>21.7</td>\n",
       "      <td>3.1</td>\n",
       "      <td>7.2</td>\n",
       "      <td>73.3</td>\n",
       "      <td>5</td>\n",
       "      <td>9.3</td>\n",
       "      <td>86.2</td>\n",
       "      <td>...</td>\n",
       "      <td>80</td>\n",
       "      <td>3.1</td>\n",
       "      <td>(38.9060811983, -77.0607838311)</td>\n",
       "      <td>DC</td>\n",
       "      <td>4890</td>\n",
       "      <td>-77.0608</td>\n",
       "      <td>38.9061</td>\n",
       "      <td>41.3</td>\n",
       "      <td>39.1</td>\n",
       "      <td>11500</td>\n",
       "    </tr>\n",
       "    <tr>\n",
       "      <th>1</th>\n",
       "      <td>53.1</td>\n",
       "      <td>1150000-11001000201</td>\n",
       "      <td>34.2</td>\n",
       "      <td>9.1</td>\n",
       "      <td>4.7</td>\n",
       "      <td>1</td>\n",
       "      <td>61.1</td>\n",
       "      <td>1.7</td>\n",
       "      <td>27</td>\n",
       "      <td>39.4</td>\n",
       "      <td>...</td>\n",
       "      <td>63.2</td>\n",
       "      <td>21.6</td>\n",
       "      <td>(38.9093385463, -77.0748289955)</td>\n",
       "      <td>DC</td>\n",
       "      <td>3916</td>\n",
       "      <td>-77.0748</td>\n",
       "      <td>38.9093</td>\n",
       "      <td>28.6</td>\n",
       "      <td>19.8</td>\n",
       "      <td>11500</td>\n",
       "    </tr>\n",
       "    <tr>\n",
       "      <th>2</th>\n",
       "      <td>81.5</td>\n",
       "      <td>1150000-11001000202</td>\n",
       "      <td>26.1</td>\n",
       "      <td>15.8</td>\n",
       "      <td>3.4</td>\n",
       "      <td>4.1</td>\n",
       "      <td>68.3</td>\n",
       "      <td>3.9</td>\n",
       "      <td>13.3</td>\n",
       "      <td>69.9</td>\n",
       "      <td>...</td>\n",
       "      <td>76.6</td>\n",
       "      <td>5.2</td>\n",
       "      <td>(38.9061877176, -77.0696162292)</td>\n",
       "      <td>DC</td>\n",
       "      <td>5425</td>\n",
       "      <td>-77.0696</td>\n",
       "      <td>38.9062</td>\n",
       "      <td>38.1</td>\n",
       "      <td>34.9</td>\n",
       "      <td>11500</td>\n",
       "    </tr>\n",
       "    <tr>\n",
       "      <th>3</th>\n",
       "      <td>82.7</td>\n",
       "      <td>1150000-11001000300</td>\n",
       "      <td>26.3</td>\n",
       "      <td>14.9</td>\n",
       "      <td>2.8</td>\n",
       "      <td>4.1</td>\n",
       "      <td>67.7</td>\n",
       "      <td>3.4</td>\n",
       "      <td>12.4</td>\n",
       "      <td>75.7</td>\n",
       "      <td>...</td>\n",
       "      <td>78.3</td>\n",
       "      <td>4.3</td>\n",
       "      <td>(38.9175532799, -77.0756590546)</td>\n",
       "      <td>DC</td>\n",
       "      <td>6233</td>\n",
       "      <td>-77.0757</td>\n",
       "      <td>38.9176</td>\n",
       "      <td>38.9</td>\n",
       "      <td>36</td>\n",
       "      <td>11500</td>\n",
       "    </tr>\n",
       "    <tr>\n",
       "      <th>4</th>\n",
       "      <td>83.2</td>\n",
       "      <td>1150000-11001000400</td>\n",
       "      <td>26.1</td>\n",
       "      <td>25.1</td>\n",
       "      <td>4</td>\n",
       "      <td>7.6</td>\n",
       "      <td>74.7</td>\n",
       "      <td>6.4</td>\n",
       "      <td>10.8</td>\n",
       "      <td>86.2</td>\n",
       "      <td>...</td>\n",
       "      <td>78.5</td>\n",
       "      <td>4.5</td>\n",
       "      <td>(38.9238892355, -77.0658962319)</td>\n",
       "      <td>DC</td>\n",
       "      <td>1455</td>\n",
       "      <td>-77.0659</td>\n",
       "      <td>38.9239</td>\n",
       "      <td>38.3</td>\n",
       "      <td>36.6</td>\n",
       "      <td>11500</td>\n",
       "    </tr>\n",
       "  </tbody>\n",
       "</table>\n",
       "<p>5 rows × 35 columns</p>\n",
       "</div>"
      ],
      "text/plain": [
       "  DENTAL             UniqueID SLEEP BPHIGH COPD CANCER CHECKUP DIABETES  \\\n",
       "0   86.6  1150000-11001000100  24.6   21.7  3.1    7.2    73.3        5   \n",
       "1   53.1  1150000-11001000201  34.2    9.1  4.7      1    61.1      1.7   \n",
       "2   81.5  1150000-11001000202  26.1   15.8  3.4    4.1    68.3      3.9   \n",
       "3   82.7  1150000-11001000300  26.3   14.9  2.8    4.1    67.7      3.4   \n",
       "4   83.2  1150000-11001000400  26.1   25.1    4    7.6    74.7      6.4   \n",
       "\n",
       "  CSMOKING CHOLSCREEN  ...   MAMMOUSE TEETHLOST  \\\n",
       "0      9.3       86.2  ...         80       3.1   \n",
       "1       27       39.4  ...       63.2      21.6   \n",
       "2     13.3       69.9  ...       76.6       5.2   \n",
       "3     12.4       75.7  ...       78.3       4.3   \n",
       "4     10.8       86.2  ...       78.5       4.5   \n",
       "\n",
       "                          geometry state population longitude latitude COREM  \\\n",
       "0  (38.9060811983, -77.0607838311)    DC       4890  -77.0608  38.9061  41.3   \n",
       "1  (38.9093385463, -77.0748289955)    DC       3916  -77.0748  38.9093  28.6   \n",
       "2  (38.9061877176, -77.0696162292)    DC       5425  -77.0696  38.9062  38.1   \n",
       "3  (38.9175532799, -77.0756590546)    DC       6233  -77.0757  38.9176  38.9   \n",
       "4  (38.9238892355, -77.0658962319)    DC       1455  -77.0659  38.9239  38.3   \n",
       "\n",
       "  COREW   fips  \n",
       "0  39.1  11500  \n",
       "1  19.8  11500  \n",
       "2  34.9  11500  \n",
       "3    36  11500  \n",
       "4  36.6  11500  \n",
       "\n",
       "[5 rows x 35 columns]"
      ]
     },
     "execution_count": 32,
     "metadata": {},
     "output_type": "execute_result"
    }
   ],
   "source": [
    "master.head()"
   ]
  },
  {
   "cell_type": "code",
   "execution_count": 33,
   "metadata": {},
   "outputs": [
    {
     "data": {
      "text/plain": [
       "Index(['DENTAL', 'UniqueID', 'SLEEP', 'BPHIGH', 'COPD', 'CANCER', 'CHECKUP',\n",
       "       'DIABETES', 'CSMOKING', 'CHOLSCREEN', 'PHLTH', 'STROKE', 'KIDNEY',\n",
       "       'CHD', 'HIGHCHOL', 'CASTHMA', 'BINGE', 'LPA', 'BPMED', 'ARTHRITIS',\n",
       "       'MHLTH', 'OBESITY', 'ACCESS2', 'PAPTEST', 'COLON_SCREEN', 'MAMMOUSE',\n",
       "       'TEETHLOST', 'geometry', 'state', 'population', 'longitude', 'latitude',\n",
       "       'COREM', 'COREW', 'fips'],\n",
       "      dtype='object')"
      ]
     },
     "execution_count": 33,
     "metadata": {},
     "output_type": "execute_result"
    }
   ],
   "source": [
    "master.columns"
   ]
  },
  {
   "cell_type": "code",
   "execution_count": 51,
   "metadata": {},
   "outputs": [],
   "source": [
    "master.to_csv(\"./dc_health_nonagg_final.csv\")"
   ]
  },
  {
   "cell_type": "code",
   "execution_count": 38,
   "metadata": {},
   "outputs": [],
   "source": [
    "agg_cols = ['DENTAL','SLEEP', 'BPHIGH', 'COPD', 'CANCER', 'CHECKUP',\n",
    "       'DIABETES', 'CSMOKING', 'CHOLSCREEN', 'PHLTH', 'STROKE', 'KIDNEY',\n",
    "       'CHD', 'HIGHCHOL', 'CASTHMA', 'BINGE', 'LPA', 'BPMED', 'ARTHRITIS',\n",
    "       'MHLTH', 'OBESITY', 'ACCESS2', 'PAPTEST', 'COLON_SCREEN', 'MAMMOUSE',\n",
    "       'TEETHLOST','COREM', 'COREW', \"fips\"]"
   ]
  },
  {
   "cell_type": "code",
   "execution_count": 42,
   "metadata": {},
   "outputs": [],
   "source": [
    "clean_dc = master[agg_cols]"
   ]
  },
  {
   "cell_type": "code",
   "execution_count": 43,
   "metadata": {},
   "outputs": [
    {
     "name": "stderr",
     "output_type": "stream",
     "text": [
      "/home/ryan/anaconda3/lib/python3.6/site-packages/ipykernel_launcher.py:2: SettingWithCopyWarning: \n",
      "A value is trying to be set on a copy of a slice from a DataFrame.\n",
      "Try using .loc[row_indexer,col_indexer] = value instead\n",
      "\n",
      "See the caveats in the documentation: http://pandas.pydata.org/pandas-docs/stable/indexing.html#indexing-view-versus-copy\n",
      "  \n"
     ]
    }
   ],
   "source": [
    "for col in clean_dc.dtypes.index:\n",
    "    clean_dc[col] = clean_dc[col].astype(float)"
   ]
  },
  {
   "cell_type": "code",
   "execution_count": 47,
   "metadata": {},
   "outputs": [],
   "source": [
    "dc_agg = clean_dc.groupby(\"fips\").mean().reset_index(drop = False)"
   ]
  },
  {
   "cell_type": "code",
   "execution_count": 48,
   "metadata": {},
   "outputs": [
    {
     "data": {
      "text/html": [
       "<div>\n",
       "<style scoped>\n",
       "    .dataframe tbody tr th:only-of-type {\n",
       "        vertical-align: middle;\n",
       "    }\n",
       "\n",
       "    .dataframe tbody tr th {\n",
       "        vertical-align: top;\n",
       "    }\n",
       "\n",
       "    .dataframe thead th {\n",
       "        text-align: right;\n",
       "    }\n",
       "</style>\n",
       "<table border=\"1\" class=\"dataframe\">\n",
       "  <thead>\n",
       "    <tr style=\"text-align: right;\">\n",
       "      <th></th>\n",
       "      <th>fips</th>\n",
       "      <th>DENTAL</th>\n",
       "      <th>SLEEP</th>\n",
       "      <th>BPHIGH</th>\n",
       "      <th>COPD</th>\n",
       "      <th>CANCER</th>\n",
       "      <th>CHECKUP</th>\n",
       "      <th>DIABETES</th>\n",
       "      <th>CSMOKING</th>\n",
       "      <th>CHOLSCREEN</th>\n",
       "      <th>...</th>\n",
       "      <th>ARTHRITIS</th>\n",
       "      <th>MHLTH</th>\n",
       "      <th>OBESITY</th>\n",
       "      <th>ACCESS2</th>\n",
       "      <th>PAPTEST</th>\n",
       "      <th>COLON_SCREEN</th>\n",
       "      <th>MAMMOUSE</th>\n",
       "      <th>TEETHLOST</th>\n",
       "      <th>COREM</th>\n",
       "      <th>COREW</th>\n",
       "    </tr>\n",
       "  </thead>\n",
       "  <tbody>\n",
       "    <tr>\n",
       "      <th>0</th>\n",
       "      <td>11500.0</td>\n",
       "      <td>67.076966</td>\n",
       "      <td>36.208427</td>\n",
       "      <td>30.154494</td>\n",
       "      <td>5.28764</td>\n",
       "      <td>5.15</td>\n",
       "      <td>74.712921</td>\n",
       "      <td>9.587079</td>\n",
       "      <td>19.527528</td>\n",
       "      <td>77.503933</td>\n",
       "      <td>...</td>\n",
       "      <td>19.858427</td>\n",
       "      <td>11.780899</td>\n",
       "      <td>26.36236</td>\n",
       "      <td>10.58427</td>\n",
       "      <td>83.691573</td>\n",
       "      <td>64.805056</td>\n",
       "      <td>77.757865</td>\n",
       "      <td>13.016292</td>\n",
       "      <td>29.223034</td>\n",
       "      <td>27.173034</td>\n",
       "    </tr>\n",
       "  </tbody>\n",
       "</table>\n",
       "<p>1 rows × 29 columns</p>\n",
       "</div>"
      ],
      "text/plain": [
       "      fips     DENTAL      SLEEP     BPHIGH     COPD  CANCER    CHECKUP  \\\n",
       "0  11500.0  67.076966  36.208427  30.154494  5.28764    5.15  74.712921   \n",
       "\n",
       "   DIABETES   CSMOKING  CHOLSCREEN    ...      ARTHRITIS      MHLTH   OBESITY  \\\n",
       "0  9.587079  19.527528   77.503933    ...      19.858427  11.780899  26.36236   \n",
       "\n",
       "    ACCESS2    PAPTEST  COLON_SCREEN   MAMMOUSE  TEETHLOST      COREM  \\\n",
       "0  10.58427  83.691573     64.805056  77.757865  13.016292  29.223034   \n",
       "\n",
       "       COREW  \n",
       "0  27.173034  \n",
       "\n",
       "[1 rows x 29 columns]"
      ]
     },
     "execution_count": 48,
     "metadata": {},
     "output_type": "execute_result"
    }
   ],
   "source": [
    "dc_agg"
   ]
  },
  {
   "cell_type": "code",
   "execution_count": 49,
   "metadata": {},
   "outputs": [],
   "source": [
    "dc_agg[\"County-equivalent\"] = \"DC\"\n",
    "dc_agg[\"unique_county\"] = \"WashingtonDC\"\n",
    "dc_agg[\"State\"] = \"DC\"\n",
    "dc_agg[\"Medianhouseholdincome\"] = 65830\n",
    "dc_agg[\"Medianfamilyincome\"] = 79665\n",
    "dc_agg[\"Per capitaincome\"] = 45290\n",
    "dc_agg[\"Population\"] = 619371\n",
    "dc_agg[\"Number ofhouseholds\"] = 263649"
   ]
  },
  {
   "cell_type": "code",
   "execution_count": 50,
   "metadata": {},
   "outputs": [],
   "source": [
    "dc_agg.to_csv(\"dc_final_health_and_income.csv\")"
   ]
  },
  {
   "cell_type": "code",
   "execution_count": null,
   "metadata": {},
   "outputs": [],
   "source": []
  }
 ],
 "metadata": {
  "kernelspec": {
   "display_name": "Python 3",
   "language": "python",
   "name": "python3"
  },
  "language_info": {
   "codemirror_mode": {
    "name": "ipython",
    "version": 3
   },
   "file_extension": ".py",
   "mimetype": "text/x-python",
   "name": "python",
   "nbconvert_exporter": "python",
   "pygments_lexer": "ipython3",
   "version": "3.6.5"
  }
 },
 "nbformat": 4,
 "nbformat_minor": 2
}
