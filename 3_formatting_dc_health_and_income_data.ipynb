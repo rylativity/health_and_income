{
 "cells": [
  {
   "cell_type": "code",
   "execution_count": null,
   "metadata": {},
   "outputs": [],
   "source": [
    "### THIS IS THE SAME AS WHAT WAS DONE FOR ALL OF THE OTHER DATA in 1_cleaning_health_data\n",
    "###... DC HAD TO BE DONE SEPARATELY BECAUSE IT IS NOT WITHIN A COUNTY\n",
    "###... make sure you've read through the 1_cleaning_health_data notebook if you dont understand a step\n",
    "\n",
    "import pandas as pd\n",
    "import regex as re\n",
    "import addfips # Must manaully add fips data to DC data\n",
    "from progressbar import ProgressBar"
   ]
  },
  {
   "cell_type": "code",
   "execution_count": null,
   "metadata": {},
   "outputs": [],
   "source": [
    "df = pd.read_csv(\"./datasets/500_Cities__Local_Data_for_Better_Health__2017_release.csv\")"
   ]
  },
  {
   "cell_type": "code",
   "execution_count": null,
   "metadata": {},
   "outputs": [],
   "source": [
    "dc = df[df[\"StateAbbr\"] == \"DC\"]"
   ]
  },
  {
   "cell_type": "code",
   "execution_count": null,
   "metadata": {},
   "outputs": [],
   "source": [
    "dc_census = dc[dc['GeographicLevel'] == \"Census Tract\"]"
   ]
  },
  {
   "cell_type": "code",
   "execution_count": null,
   "metadata": {
    "scrolled": true
   },
   "outputs": [],
   "source": [
    "re.findall(\"-\\d+.\\d+\", dc_census.GeoLocation[230262])[0] # this is how the regex will work for Long"
   ]
  },
  {
   "cell_type": "code",
   "execution_count": null,
   "metadata": {
    "scrolled": false
   },
   "outputs": [],
   "source": [
    "dc_census['Latitude'] = [float(re.findall(\"(\\d+.\\d+),\", dc_census.GeoLocation[i])[0]) for i in dc_census.index] # regex for lat"
   ]
  },
  {
   "cell_type": "code",
   "execution_count": null,
   "metadata": {},
   "outputs": [],
   "source": [
    "dc_census['Longitude'] = [float(re.findall(\"-\\d+.\\d+\", dc_census.GeoLocation[i])[0]) for i in dc_census.index] # regex for long"
   ]
  },
  {
   "cell_type": "code",
   "execution_count": null,
   "metadata": {
    "scrolled": false
   },
   "outputs": [],
   "source": [
    "dc_census.Measure.value_counts()"
   ]
  },
  {
   "cell_type": "code",
   "execution_count": null,
   "metadata": {},
   "outputs": [],
   "source": [
    "dc_census.Measure.value_counts().index[0]"
   ]
  },
  {
   "cell_type": "code",
   "execution_count": null,
   "metadata": {},
   "outputs": [],
   "source": [
    "measures_of_interest = df.Measure.value_counts().index"
   ]
  },
  {
   "cell_type": "code",
   "execution_count": null,
   "metadata": {
    "scrolled": true
   },
   "outputs": [],
   "source": [
    "dc_df_list = [dc_census[dc_census[\"Measure\"] == x] for x in measures_of_interest] # making a df for each measure"
   ]
  },
  {
   "cell_type": "code",
   "execution_count": null,
   "metadata": {},
   "outputs": [],
   "source": [
    "metric_dfs = []\n",
    "for df in dc_df_list:\n",
    "    df.reset_index(inplace=True, drop=True)\n",
    "    temp = pd.DataFrame({df.MeasureId[0]:df.Data_Value, \"UniqueID\":df.UniqueID,\n",
    "                                       \"geometry\":df.GeoLocation, \"state\":df.StateAbbr,\n",
    "                            \"pop\":df.PopulationCount, \"longitude\": df.Longitude,\n",
    "                           \"latitude\":df.Latitude})\n",
    "    metric_dfs.append(temp)"
   ]
  },
  {
   "cell_type": "code",
   "execution_count": null,
   "metadata": {
    "scrolled": true
   },
   "outputs": [],
   "source": [
    "metric_dfs[0].UniqueID[3][0:5]"
   ]
  },
  {
   "cell_type": "code",
   "execution_count": null,
   "metadata": {
    "scrolled": true
   },
   "outputs": [],
   "source": [
    "metric_dfs[0].UniqueID.value_counts().sum()"
   ]
  },
  {
   "cell_type": "code",
   "execution_count": null,
   "metadata": {},
   "outputs": [],
   "source": [
    "master = pd.merge(metric_dfs[0],metric_dfs[1], how='left',on=\"UniqueID\")\n",
    "for i in metric_dfs[2:]:\n",
    "    master = master.merge(i, how = \"left\",on=\"UniqueID\")"
   ]
  },
  {
   "cell_type": "code",
   "execution_count": null,
   "metadata": {
    "scrolled": true
   },
   "outputs": [],
   "source": [
    "master.columns"
   ]
  },
  {
   "cell_type": "code",
   "execution_count": null,
   "metadata": {},
   "outputs": [],
   "source": [
    "master = master.T.drop_duplicates().T"
   ]
  },
  {
   "cell_type": "code",
   "execution_count": null,
   "metadata": {},
   "outputs": [],
   "source": [
    "master.columns"
   ]
  },
  {
   "cell_type": "code",
   "execution_count": null,
   "metadata": {
    "scrolled": true
   },
   "outputs": [],
   "source": [
    "master.columns"
   ]
  },
  {
   "cell_type": "code",
   "execution_count": null,
   "metadata": {},
   "outputs": [],
   "source": [
    "master.rename({\"geometry_y\":\"geometry\",\"state_y\":\"state\",\"pop_y\":\"population\",\"longitude_y\":\"longitude\",\n",
    "              \"latitude_y\":\"latitude\"}, axis = 1, inplace = True)\n",
    "master.drop(['geometry_x', 'state_x', 'pop_x', 'longitude_x','latitude_x'], axis = 1, inplace = True)"
   ]
  },
  {
   "cell_type": "code",
   "execution_count": null,
   "metadata": {
    "scrolled": false
   },
   "outputs": [],
   "source": [
    "master.dropna().shape, master.shape"
   ]
  },
  {
   "cell_type": "code",
   "execution_count": null,
   "metadata": {},
   "outputs": [],
   "source": [
    "master.dropna(inplace=True)"
   ]
  },
  {
   "cell_type": "code",
   "execution_count": null,
   "metadata": {},
   "outputs": [],
   "source": [
    "master['fips'] = [x[0:5] for x in master.UniqueID]"
   ]
  },
  {
   "cell_type": "code",
   "execution_count": null,
   "metadata": {
    "scrolled": true
   },
   "outputs": [],
   "source": [
    "master.head()"
   ]
  },
  {
   "cell_type": "code",
   "execution_count": null,
   "metadata": {},
   "outputs": [],
   "source": [
    "master.columns"
   ]
  },
  {
   "cell_type": "code",
   "execution_count": null,
   "metadata": {},
   "outputs": [],
   "source": [
    "agg_cols = ['DENTAL','SLEEP', 'BPHIGH', 'COPD', 'CANCER', 'CHECKUP',\n",
    "       'DIABETES', 'CSMOKING', 'CHOLSCREEN', 'PHLTH', 'STROKE', 'KIDNEY',\n",
    "       'CHD', 'HIGHCHOL', 'CASTHMA', 'BINGE', 'LPA', 'BPMED', 'ARTHRITIS',\n",
    "       'MHLTH', 'OBESITY', 'ACCESS2', 'PAPTEST', 'COLON_SCREEN', 'MAMMOUSE',\n",
    "       'TEETHLOST','COREM', 'COREW']"
   ]
  },
  {
   "cell_type": "code",
   "execution_count": null,
   "metadata": {},
   "outputs": [],
   "source": [
    "clean_dc = master[agg_cols]"
   ]
  },
  {
   "cell_type": "code",
   "execution_count": null,
   "metadata": {},
   "outputs": [],
   "source": [
    "for col in clean_dc.dtypes.index:\n",
    "    clean_dc[col] = clean_dc[col].astype(float)\n",
    "clean_dc[\"fips\"] = clean_dc[\"fips\"].astype(int).astype(str)"
   ]
  },
  {
   "cell_type": "code",
   "execution_count": null,
   "metadata": {},
   "outputs": [],
   "source": [
    "# All entries here share the same CITY fips code (different from county)\n",
    "# For our analysis, we will treat DC as a county and aggregate its data\n",
    "dc_agg = clean_dc.groupby(\"fips\").mean().reset_index(drop = False)\n",
    "\n",
    "#We then need to assign the aggregated data the correct DC COUNTY fips code = 11001\n",
    "dc_agg[\"fips\"] = \"11001\""
   ]
  },
  {
   "cell_type": "code",
   "execution_count": null,
   "metadata": {},
   "outputs": [],
   "source": [
    "dc_agg.head()"
   ]
  },
  {
   "cell_type": "code",
   "execution_count": null,
   "metadata": {},
   "outputs": [],
   "source": [
    "health_df = pd.read_csv(\"./datasets/agg_county_data_final.csv\", dtype={\"fips\":str})\n",
    "health_df.drop(\"Unnamed: 0\", axis=1, inplace=True)"
   ]
  },
  {
   "cell_type": "code",
   "execution_count": null,
   "metadata": {},
   "outputs": [],
   "source": [
    "#These are the columns we filtered to in the first notebook because they had values for each row\n",
    "cols = list(health_df.columns)"
   ]
  },
  {
   "cell_type": "code",
   "execution_count": null,
   "metadata": {},
   "outputs": [],
   "source": [
    "health_df.columns"
   ]
  },
  {
   "cell_type": "code",
   "execution_count": null,
   "metadata": {},
   "outputs": [],
   "source": [
    "dc_agg = dc_agg[cols]"
   ]
  },
  {
   "cell_type": "code",
   "execution_count": null,
   "metadata": {},
   "outputs": [],
   "source": [
    "dc_agg.head()"
   ]
  },
  {
   "cell_type": "code",
   "execution_count": null,
   "metadata": {},
   "outputs": [],
   "source": [
    "health_df = pd.concat([health_df, dc_agg])\n"
   ]
  },
  {
   "cell_type": "code",
   "execution_count": null,
   "metadata": {},
   "outputs": [],
   "source": [
    "health_df.tail()"
   ]
  },
  {
   "cell_type": "code",
   "execution_count": null,
   "metadata": {},
   "outputs": [],
   "source": [
    "health_df.reset_index(drop=True, inplace=True)"
   ]
  },
  {
   "cell_type": "code",
   "execution_count": null,
   "metadata": {},
   "outputs": [],
   "source": [
    "health_df.to_csv(\"./datasets/all_health_data_final.csv\")"
   ]
  },
  {
   "cell_type": "code",
   "execution_count": null,
   "metadata": {},
   "outputs": [],
   "source": []
  }
 ],
 "metadata": {
  "kernelspec": {
   "display_name": "Python 3",
   "language": "python",
   "name": "python3"
  },
  "language_info": {
   "codemirror_mode": {
    "name": "ipython",
    "version": 3
   },
   "file_extension": ".py",
   "mimetype": "text/x-python",
   "name": "python",
   "nbconvert_exporter": "python",
   "pygments_lexer": "ipython3",
   "version": "3.7.7"
  }
 },
 "nbformat": 4,
 "nbformat_minor": 2
}
