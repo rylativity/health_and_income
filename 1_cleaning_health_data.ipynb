{
 "cells": [
  {
   "cell_type": "code",
   "execution_count": 1,
   "metadata": {},
   "outputs": [],
   "source": [
    "import pandas as pd\n",
    "import regex as re\n",
    "import matplotlib.pyplot as plt\n",
    "\n",
    "from sklearn.model_selection import train_test_split"
   ]
  },
  {
   "cell_type": "code",
   "execution_count": 2,
   "metadata": {},
   "outputs": [],
   "source": [
    "### NOTE: You must unzip the 500 Cities Dataset first before reading it in with this line\n",
    "read_in = pd.read_csv(\"./datasets/500_Cities__Local_Data_for_Better_Health__2017_release.csv\")"
   ]
  },
  {
   "cell_type": "code",
   "execution_count": 3,
   "metadata": {},
   "outputs": [],
   "source": [
    "# filtering for census tract level data\n",
    "df = read_in[read_in['GeographicLevel'] == \"Census Tract\"] "
   ]
  },
  {
   "cell_type": "code",
   "execution_count": 33,
   "metadata": {},
   "outputs": [
    {
     "data": {
      "text/html": [
       "<div>\n",
       "<style scoped>\n",
       "    .dataframe tbody tr th:only-of-type {\n",
       "        vertical-align: middle;\n",
       "    }\n",
       "\n",
       "    .dataframe tbody tr th {\n",
       "        vertical-align: top;\n",
       "    }\n",
       "\n",
       "    .dataframe thead th {\n",
       "        text-align: right;\n",
       "    }\n",
       "</style>\n",
       "<table border=\"1\" class=\"dataframe\">\n",
       "  <thead>\n",
       "    <tr style=\"text-align: right;\">\n",
       "      <th></th>\n",
       "      <th>Year</th>\n",
       "      <th>StateAbbr</th>\n",
       "      <th>StateDesc</th>\n",
       "      <th>CityName</th>\n",
       "      <th>GeographicLevel</th>\n",
       "      <th>DataSource</th>\n",
       "      <th>Category</th>\n",
       "      <th>UniqueID</th>\n",
       "      <th>Measure</th>\n",
       "      <th>Data_Value_Unit</th>\n",
       "      <th>...</th>\n",
       "      <th>Data_Value_Footnote</th>\n",
       "      <th>PopulationCount</th>\n",
       "      <th>GeoLocation</th>\n",
       "      <th>CategoryID</th>\n",
       "      <th>MeasureId</th>\n",
       "      <th>CityFIPS</th>\n",
       "      <th>TractFIPS</th>\n",
       "      <th>Short_Question_Text</th>\n",
       "      <th>Latitude</th>\n",
       "      <th>Longitude</th>\n",
       "    </tr>\n",
       "  </thead>\n",
       "  <tbody>\n",
       "    <tr>\n",
       "      <th>7904</th>\n",
       "      <td>2015</td>\n",
       "      <td>DC</td>\n",
       "      <td>District of Columbia</td>\n",
       "      <td>Washington</td>\n",
       "      <td>Census Tract</td>\n",
       "      <td>BRFSS</td>\n",
       "      <td>Unhealthy Behaviors</td>\n",
       "      <td>1150000-11001001001</td>\n",
       "      <td>Current smoking among adults aged &gt;=18 Years</td>\n",
       "      <td>%</td>\n",
       "      <td>...</td>\n",
       "      <td>NaN</td>\n",
       "      <td>7436.0</td>\n",
       "      <td>(38.9489550754, -77.0884651956)</td>\n",
       "      <td>UNHBEH</td>\n",
       "      <td>CSMOKING</td>\n",
       "      <td>1150000.0</td>\n",
       "      <td>1.100100e+10</td>\n",
       "      <td>Current Smoking</td>\n",
       "      <td>38.948955</td>\n",
       "      <td>-77.088465</td>\n",
       "    </tr>\n",
       "    <tr>\n",
       "      <th>7905</th>\n",
       "      <td>2015</td>\n",
       "      <td>DC</td>\n",
       "      <td>District of Columbia</td>\n",
       "      <td>Washington</td>\n",
       "      <td>Census Tract</td>\n",
       "      <td>BRFSS</td>\n",
       "      <td>Unhealthy Behaviors</td>\n",
       "      <td>1150000-11001001002</td>\n",
       "      <td>Current smoking among adults aged &gt;=18 Years</td>\n",
       "      <td>%</td>\n",
       "      <td>...</td>\n",
       "      <td>NaN</td>\n",
       "      <td>3442.0</td>\n",
       "      <td>(38.9384216789, -77.0788872939)</td>\n",
       "      <td>UNHBEH</td>\n",
       "      <td>CSMOKING</td>\n",
       "      <td>1150000.0</td>\n",
       "      <td>1.100100e+10</td>\n",
       "      <td>Current Smoking</td>\n",
       "      <td>38.938422</td>\n",
       "      <td>-77.078887</td>\n",
       "    </tr>\n",
       "    <tr>\n",
       "      <th>7906</th>\n",
       "      <td>2015</td>\n",
       "      <td>DC</td>\n",
       "      <td>District of Columbia</td>\n",
       "      <td>Washington</td>\n",
       "      <td>Census Tract</td>\n",
       "      <td>BRFSS</td>\n",
       "      <td>Unhealthy Behaviors</td>\n",
       "      <td>1150000-11001001100</td>\n",
       "      <td>Current smoking among adults aged &gt;=18 Years</td>\n",
       "      <td>%</td>\n",
       "      <td>...</td>\n",
       "      <td>NaN</td>\n",
       "      <td>4779.0</td>\n",
       "      <td>(38.95724392, -77.0776735816)</td>\n",
       "      <td>UNHBEH</td>\n",
       "      <td>CSMOKING</td>\n",
       "      <td>1150000.0</td>\n",
       "      <td>1.100100e+10</td>\n",
       "      <td>Current Smoking</td>\n",
       "      <td>38.957244</td>\n",
       "      <td>-77.077674</td>\n",
       "    </tr>\n",
       "    <tr>\n",
       "      <th>7907</th>\n",
       "      <td>2015</td>\n",
       "      <td>DC</td>\n",
       "      <td>District of Columbia</td>\n",
       "      <td>Washington</td>\n",
       "      <td>Census Tract</td>\n",
       "      <td>BRFSS</td>\n",
       "      <td>Unhealthy Behaviors</td>\n",
       "      <td>1150000-11001001200</td>\n",
       "      <td>Current smoking among adults aged &gt;=18 Years</td>\n",
       "      <td>%</td>\n",
       "      <td>...</td>\n",
       "      <td>NaN</td>\n",
       "      <td>5008.0</td>\n",
       "      <td>(38.9462265217, -77.0705246905)</td>\n",
       "      <td>UNHBEH</td>\n",
       "      <td>CSMOKING</td>\n",
       "      <td>1150000.0</td>\n",
       "      <td>1.100100e+10</td>\n",
       "      <td>Current Smoking</td>\n",
       "      <td>38.946227</td>\n",
       "      <td>-77.070525</td>\n",
       "    </tr>\n",
       "    <tr>\n",
       "      <th>7908</th>\n",
       "      <td>2015</td>\n",
       "      <td>DC</td>\n",
       "      <td>District of Columbia</td>\n",
       "      <td>Washington</td>\n",
       "      <td>Census Tract</td>\n",
       "      <td>BRFSS</td>\n",
       "      <td>Unhealthy Behaviors</td>\n",
       "      <td>1150000-11001001301</td>\n",
       "      <td>Current smoking among adults aged &gt;=18 Years</td>\n",
       "      <td>%</td>\n",
       "      <td>...</td>\n",
       "      <td>NaN</td>\n",
       "      <td>3955.0</td>\n",
       "      <td>(38.9538356982, -77.0545997657)</td>\n",
       "      <td>UNHBEH</td>\n",
       "      <td>CSMOKING</td>\n",
       "      <td>1150000.0</td>\n",
       "      <td>1.100100e+10</td>\n",
       "      <td>Current Smoking</td>\n",
       "      <td>38.953836</td>\n",
       "      <td>-77.054600</td>\n",
       "    </tr>\n",
       "    <tr>\n",
       "      <th>...</th>\n",
       "      <td>...</td>\n",
       "      <td>...</td>\n",
       "      <td>...</td>\n",
       "      <td>...</td>\n",
       "      <td>...</td>\n",
       "      <td>...</td>\n",
       "      <td>...</td>\n",
       "      <td>...</td>\n",
       "      <td>...</td>\n",
       "      <td>...</td>\n",
       "      <td>...</td>\n",
       "      <td>...</td>\n",
       "      <td>...</td>\n",
       "      <td>...</td>\n",
       "      <td>...</td>\n",
       "      <td>...</td>\n",
       "      <td>...</td>\n",
       "      <td>...</td>\n",
       "      <td>...</td>\n",
       "      <td>...</td>\n",
       "      <td>...</td>\n",
       "    </tr>\n",
       "    <tr>\n",
       "      <th>8078</th>\n",
       "      <td>2015</td>\n",
       "      <td>DC</td>\n",
       "      <td>District of Columbia</td>\n",
       "      <td>Washington</td>\n",
       "      <td>Census Tract</td>\n",
       "      <td>BRFSS</td>\n",
       "      <td>Unhealthy Behaviors</td>\n",
       "      <td>1150000-11001010700</td>\n",
       "      <td>Current smoking among adults aged &gt;=18 Years</td>\n",
       "      <td>%</td>\n",
       "      <td>...</td>\n",
       "      <td>NaN</td>\n",
       "      <td>1838.0</td>\n",
       "      <td>(38.9039989156, -77.0419808973)</td>\n",
       "      <td>UNHBEH</td>\n",
       "      <td>CSMOKING</td>\n",
       "      <td>1150000.0</td>\n",
       "      <td>1.100101e+10</td>\n",
       "      <td>Current Smoking</td>\n",
       "      <td>38.903999</td>\n",
       "      <td>-77.041981</td>\n",
       "    </tr>\n",
       "    <tr>\n",
       "      <th>8079</th>\n",
       "      <td>2015</td>\n",
       "      <td>DC</td>\n",
       "      <td>District of Columbia</td>\n",
       "      <td>Washington</td>\n",
       "      <td>Census Tract</td>\n",
       "      <td>BRFSS</td>\n",
       "      <td>Unhealthy Behaviors</td>\n",
       "      <td>1150000-11001010800</td>\n",
       "      <td>Current smoking among adults aged &gt;=18 Years</td>\n",
       "      <td>%</td>\n",
       "      <td>...</td>\n",
       "      <td>NaN</td>\n",
       "      <td>6408.0</td>\n",
       "      <td>(38.8973521338, -77.0446120467)</td>\n",
       "      <td>UNHBEH</td>\n",
       "      <td>CSMOKING</td>\n",
       "      <td>1150000.0</td>\n",
       "      <td>1.100101e+10</td>\n",
       "      <td>Current Smoking</td>\n",
       "      <td>38.897352</td>\n",
       "      <td>-77.044612</td>\n",
       "    </tr>\n",
       "    <tr>\n",
       "      <th>8080</th>\n",
       "      <td>2015</td>\n",
       "      <td>DC</td>\n",
       "      <td>District of Columbia</td>\n",
       "      <td>Washington</td>\n",
       "      <td>Census Tract</td>\n",
       "      <td>BRFSS</td>\n",
       "      <td>Unhealthy Behaviors</td>\n",
       "      <td>1150000-11001010900</td>\n",
       "      <td>Current smoking among adults aged &gt;=18 Years</td>\n",
       "      <td>%</td>\n",
       "      <td>...</td>\n",
       "      <td>NaN</td>\n",
       "      <td>3211.0</td>\n",
       "      <td>(38.8116201244, -77.0248889119)</td>\n",
       "      <td>UNHBEH</td>\n",
       "      <td>CSMOKING</td>\n",
       "      <td>1150000.0</td>\n",
       "      <td>1.100101e+10</td>\n",
       "      <td>Current Smoking</td>\n",
       "      <td>38.811620</td>\n",
       "      <td>-77.024889</td>\n",
       "    </tr>\n",
       "    <tr>\n",
       "      <th>8081</th>\n",
       "      <td>2015</td>\n",
       "      <td>DC</td>\n",
       "      <td>District of Columbia</td>\n",
       "      <td>Washington</td>\n",
       "      <td>Census Tract</td>\n",
       "      <td>BRFSS</td>\n",
       "      <td>Unhealthy Behaviors</td>\n",
       "      <td>1150000-11001011000</td>\n",
       "      <td>Current smoking among adults aged &gt;=18 Years</td>\n",
       "      <td>%</td>\n",
       "      <td>...</td>\n",
       "      <td>NaN</td>\n",
       "      <td>3715.0</td>\n",
       "      <td>(38.8688417474, -77.0180491156)</td>\n",
       "      <td>UNHBEH</td>\n",
       "      <td>CSMOKING</td>\n",
       "      <td>1150000.0</td>\n",
       "      <td>1.100101e+10</td>\n",
       "      <td>Current Smoking</td>\n",
       "      <td>38.868842</td>\n",
       "      <td>-77.018049</td>\n",
       "    </tr>\n",
       "    <tr>\n",
       "      <th>8082</th>\n",
       "      <td>2015</td>\n",
       "      <td>DC</td>\n",
       "      <td>District of Columbia</td>\n",
       "      <td>Washington</td>\n",
       "      <td>Census Tract</td>\n",
       "      <td>BRFSS</td>\n",
       "      <td>Unhealthy Behaviors</td>\n",
       "      <td>1150000-11001011100</td>\n",
       "      <td>Current smoking among adults aged &gt;=18 Years</td>\n",
       "      <td>%</td>\n",
       "      <td>...</td>\n",
       "      <td>NaN</td>\n",
       "      <td>4859.0</td>\n",
       "      <td>(38.9161214423, -76.9665022869)</td>\n",
       "      <td>UNHBEH</td>\n",
       "      <td>CSMOKING</td>\n",
       "      <td>1150000.0</td>\n",
       "      <td>1.100101e+10</td>\n",
       "      <td>Current Smoking</td>\n",
       "      <td>38.916121</td>\n",
       "      <td>-76.966502</td>\n",
       "    </tr>\n",
       "  </tbody>\n",
       "</table>\n",
       "<p>179 rows × 26 columns</p>\n",
       "</div>"
      ],
      "text/plain": [
       "      Year StateAbbr             StateDesc    CityName GeographicLevel  \\\n",
       "7904  2015        DC  District of Columbia  Washington    Census Tract   \n",
       "7905  2015        DC  District of Columbia  Washington    Census Tract   \n",
       "7906  2015        DC  District of Columbia  Washington    Census Tract   \n",
       "7907  2015        DC  District of Columbia  Washington    Census Tract   \n",
       "7908  2015        DC  District of Columbia  Washington    Census Tract   \n",
       "...    ...       ...                   ...         ...             ...   \n",
       "8078  2015        DC  District of Columbia  Washington    Census Tract   \n",
       "8079  2015        DC  District of Columbia  Washington    Census Tract   \n",
       "8080  2015        DC  District of Columbia  Washington    Census Tract   \n",
       "8081  2015        DC  District of Columbia  Washington    Census Tract   \n",
       "8082  2015        DC  District of Columbia  Washington    Census Tract   \n",
       "\n",
       "     DataSource             Category             UniqueID  \\\n",
       "7904      BRFSS  Unhealthy Behaviors  1150000-11001001001   \n",
       "7905      BRFSS  Unhealthy Behaviors  1150000-11001001002   \n",
       "7906      BRFSS  Unhealthy Behaviors  1150000-11001001100   \n",
       "7907      BRFSS  Unhealthy Behaviors  1150000-11001001200   \n",
       "7908      BRFSS  Unhealthy Behaviors  1150000-11001001301   \n",
       "...         ...                  ...                  ...   \n",
       "8078      BRFSS  Unhealthy Behaviors  1150000-11001010700   \n",
       "8079      BRFSS  Unhealthy Behaviors  1150000-11001010800   \n",
       "8080      BRFSS  Unhealthy Behaviors  1150000-11001010900   \n",
       "8081      BRFSS  Unhealthy Behaviors  1150000-11001011000   \n",
       "8082      BRFSS  Unhealthy Behaviors  1150000-11001011100   \n",
       "\n",
       "                                           Measure Data_Value_Unit  ...  \\\n",
       "7904  Current smoking among adults aged >=18 Years               %  ...   \n",
       "7905  Current smoking among adults aged >=18 Years               %  ...   \n",
       "7906  Current smoking among adults aged >=18 Years               %  ...   \n",
       "7907  Current smoking among adults aged >=18 Years               %  ...   \n",
       "7908  Current smoking among adults aged >=18 Years               %  ...   \n",
       "...                                            ...             ...  ...   \n",
       "8078  Current smoking among adults aged >=18 Years               %  ...   \n",
       "8079  Current smoking among adults aged >=18 Years               %  ...   \n",
       "8080  Current smoking among adults aged >=18 Years               %  ...   \n",
       "8081  Current smoking among adults aged >=18 Years               %  ...   \n",
       "8082  Current smoking among adults aged >=18 Years               %  ...   \n",
       "\n",
       "     Data_Value_Footnote PopulationCount                      GeoLocation  \\\n",
       "7904                 NaN          7436.0  (38.9489550754, -77.0884651956)   \n",
       "7905                 NaN          3442.0  (38.9384216789, -77.0788872939)   \n",
       "7906                 NaN          4779.0    (38.95724392, -77.0776735816)   \n",
       "7907                 NaN          5008.0  (38.9462265217, -77.0705246905)   \n",
       "7908                 NaN          3955.0  (38.9538356982, -77.0545997657)   \n",
       "...                  ...             ...                              ...   \n",
       "8078                 NaN          1838.0  (38.9039989156, -77.0419808973)   \n",
       "8079                 NaN          6408.0  (38.8973521338, -77.0446120467)   \n",
       "8080                 NaN          3211.0  (38.8116201244, -77.0248889119)   \n",
       "8081                 NaN          3715.0  (38.8688417474, -77.0180491156)   \n",
       "8082                 NaN          4859.0  (38.9161214423, -76.9665022869)   \n",
       "\n",
       "      CategoryID  MeasureId   CityFIPS     TractFIPS  Short_Question_Text  \\\n",
       "7904      UNHBEH   CSMOKING  1150000.0  1.100100e+10      Current Smoking   \n",
       "7905      UNHBEH   CSMOKING  1150000.0  1.100100e+10      Current Smoking   \n",
       "7906      UNHBEH   CSMOKING  1150000.0  1.100100e+10      Current Smoking   \n",
       "7907      UNHBEH   CSMOKING  1150000.0  1.100100e+10      Current Smoking   \n",
       "7908      UNHBEH   CSMOKING  1150000.0  1.100100e+10      Current Smoking   \n",
       "...          ...        ...        ...           ...                  ...   \n",
       "8078      UNHBEH   CSMOKING  1150000.0  1.100101e+10      Current Smoking   \n",
       "8079      UNHBEH   CSMOKING  1150000.0  1.100101e+10      Current Smoking   \n",
       "8080      UNHBEH   CSMOKING  1150000.0  1.100101e+10      Current Smoking   \n",
       "8081      UNHBEH   CSMOKING  1150000.0  1.100101e+10      Current Smoking   \n",
       "8082      UNHBEH   CSMOKING  1150000.0  1.100101e+10      Current Smoking   \n",
       "\n",
       "       Latitude  Longitude  \n",
       "7904  38.948955 -77.088465  \n",
       "7905  38.938422 -77.078887  \n",
       "7906  38.957244 -77.077674  \n",
       "7907  38.946227 -77.070525  \n",
       "7908  38.953836 -77.054600  \n",
       "...         ...        ...  \n",
       "8078  38.903999 -77.041981  \n",
       "8079  38.897352 -77.044612  \n",
       "8080  38.811620 -77.024889  \n",
       "8081  38.868842 -77.018049  \n",
       "8082  38.916121 -76.966502  \n",
       "\n",
       "[179 rows x 26 columns]"
      ]
     },
     "execution_count": 33,
     "metadata": {},
     "output_type": "execute_result"
    }
   ],
   "source": [
    "df[df.StateAbbr == \"DC\"]"
   ]
  },
  {
   "cell_type": "code",
   "execution_count": 5,
   "metadata": {
    "scrolled": true
   },
   "outputs": [
    {
     "data": {
      "text/plain": [
       "Mental health not good for >=14 days among adults aged >=18 Years                                                                                                                                 28004\n",
       "High cholesterol among adults aged >=18 Years who have been screened in the past 5 Years                                                                                                          28004\n",
       "No leisure-time physical activity among adults aged >=18 Years                                                                                                                                    28004\n",
       "Physical health not good for >=14 days among adults aged >=18 Years                                                                                                                               28004\n",
       "Cancer (excluding skin cancer) among adults aged >=18 Years                                                                                                                                       28004\n",
       "Visits to dentist or dental clinic among adults aged >=18 Years                                                                                                                                   28004\n",
       "Chronic obstructive pulmonary disease among adults aged >=18 Years                                                                                                                                28004\n",
       "Obesity among adults aged >=18 Years                                                                                                                                                              28004\n",
       "Stroke among adults aged >=18 Years                                                                                                                                                               28004\n",
       "Visits to doctor for routine checkup within the past Year among adults aged >=18 Years                                                                                                            28004\n",
       "Cholesterol screening among adults aged >=18 Years                                                                                                                                                28004\n",
       "Current asthma among adults aged >=18 Years                                                                                                                                                       28004\n",
       "Binge drinking among adults aged >=18 Years                                                                                                                                                       28004\n",
       "Coronary heart disease among adults aged >=18 Years                                                                                                                                               28004\n",
       "Taking medicine for high blood pressure control among adults aged >=18 Years with high blood pressure                                                                                             28004\n",
       "Arthritis among adults aged >=18 Years                                                                                                                                                            28004\n",
       "Chronic kidney disease among adults aged >=18 Years                                                                                                                                               28004\n",
       "High blood pressure among adults aged >=18 Years                                                                                                                                                  28004\n",
       "Diagnosed diabetes among adults aged >=18 Years                                                                                                                                                   28004\n",
       "Sleeping less than 7 hours among adults aged >=18 Years                                                                                                                                           28004\n",
       "Current smoking among adults aged >=18 Years                                                                                                                                                      28004\n",
       "Current lack of health insurance among adults aged 18–64 Years                                                                                                                                    27971\n",
       "Papanicolaou smear use among adult women aged 21–65 Years                                                                                                                                         27910\n",
       "Fecal occult blood test, sigmoidoscopy, or colonoscopy among adults aged 50–75 Years                                                                                                              27845\n",
       "Mammography use among women aged 50–74 Years                                                                                                                                                      27725\n",
       "All teeth lost among adults aged >=65 Years                                                                                                                                                       27599\n",
       "Older adult men aged >=65 Years who are up to date on a core set of clinical preventive services: Flu shot past Year, PPV shot ever, Colorectal cancer screening                                  27462\n",
       "Older adult women aged >=65 Years who are up to date on a core set of clinical preventive services: Flu shot past Year, PPV shot ever, Colorectal cancer screening, and Mammogram past 2 Years    27451\n",
       "Name: Measure, dtype: int64"
      ]
     },
     "execution_count": 5,
     "metadata": {},
     "output_type": "execute_result"
    }
   ],
   "source": [
    "# these are the potential feature columns along with their counts\n",
    "# I need to pull the Data_Value along with the GeoLocation (as my unique identifier)\n",
    "df.Measure.value_counts() "
   ]
  },
  {
   "cell_type": "code",
   "execution_count": 6,
   "metadata": {},
   "outputs": [
    {
     "data": {
      "text/plain": [
       "(782047, 24)"
      ]
     },
     "execution_count": 6,
     "metadata": {},
     "output_type": "execute_result"
    }
   ],
   "source": [
    "df.shape"
   ]
  },
  {
   "cell_type": "code",
   "execution_count": 7,
   "metadata": {
    "scrolled": true
   },
   "outputs": [
    {
     "data": {
      "text/plain": [
       "'(33.5794328326, -86.7228323926)'"
      ]
     },
     "execution_count": 7,
     "metadata": {},
     "output_type": "execute_result"
    }
   ],
   "source": [
    "# Example of a Geolocation from the Data\n",
    "df.GeoLocation[58]"
   ]
  },
  {
   "cell_type": "code",
   "execution_count": 8,
   "metadata": {},
   "outputs": [
    {
     "data": {
      "text/plain": [
       "'-86.7228323926'"
      ]
     },
     "execution_count": 8,
     "metadata": {},
     "output_type": "execute_result"
    }
   ],
   "source": [
    "# Going to use RegEx to creat latitude/longitude cols, example here\n",
    "re.findall(\"-\\d+.\\d+\", df.GeoLocation[58])[0]"
   ]
  },
  {
   "cell_type": "code",
   "execution_count": 9,
   "metadata": {
    "scrolled": false
   },
   "outputs": [
    {
     "name": "stderr",
     "output_type": "stream",
     "text": [
      "/usr/local/lib/python3.7/site-packages/ipykernel_launcher.py:2: SettingWithCopyWarning: \n",
      "A value is trying to be set on a copy of a slice from a DataFrame.\n",
      "Try using .loc[row_indexer,col_indexer] = value instead\n",
      "\n",
      "See the caveats in the documentation: https://pandas.pydata.org/pandas-docs/stable/user_guide/indexing.html#returning-a-view-versus-a-copy\n",
      "  \n"
     ]
    }
   ],
   "source": [
    "# Create latitude column for all rows\n",
    "df['Latitude'] = [float(re.findall(\"(\\d+.\\d+),\", df.GeoLocation[i])[0]) for i in df.index] # regex for lat"
   ]
  },
  {
   "cell_type": "code",
   "execution_count": 10,
   "metadata": {},
   "outputs": [
    {
     "name": "stderr",
     "output_type": "stream",
     "text": [
      "/usr/local/lib/python3.7/site-packages/ipykernel_launcher.py:2: SettingWithCopyWarning: \n",
      "A value is trying to be set on a copy of a slice from a DataFrame.\n",
      "Try using .loc[row_indexer,col_indexer] = value instead\n",
      "\n",
      "See the caveats in the documentation: https://pandas.pydata.org/pandas-docs/stable/user_guide/indexing.html#returning-a-view-versus-a-copy\n",
      "  \n"
     ]
    }
   ],
   "source": [
    "# Create longitude column for all rows\n",
    "df['Longitude'] = [float(re.findall(\"-\\d+.\\d+\", df.GeoLocation[i])[0]) for i in df.index] # regex for long"
   ]
  },
  {
   "cell_type": "code",
   "execution_count": 11,
   "metadata": {},
   "outputs": [],
   "source": [
    "# I am going to pull the data for which all locations have data\n",
    "measures_of_interest = df.Measure.value_counts().index[0:21] "
   ]
  },
  {
   "cell_type": "code",
   "execution_count": 12,
   "metadata": {
    "scrolled": false
   },
   "outputs": [
    {
     "name": "stdout",
     "output_type": "stream",
     "text": [
      "['Mental health not good for >=14 days among adults aged >=18 Years', 'High cholesterol among adults aged >=18 Years who have been screened in the past 5 Years', 'No leisure-time physical activity among adults aged >=18 Years', 'Physical health not good for >=14 days among adults aged >=18 Years', 'Cancer (excluding skin cancer) among adults aged >=18 Years', 'Visits to dentist or dental clinic among adults aged >=18 Years', 'Chronic obstructive pulmonary disease among adults aged >=18 Years', 'Obesity among adults aged >=18 Years', 'Stroke among adults aged >=18 Years', 'Visits to doctor for routine checkup within the past Year among adults aged >=18 Years', 'Cholesterol screening among adults aged >=18 Years', 'Current asthma among adults aged >=18 Years', 'Binge drinking among adults aged >=18 Years', 'Coronary heart disease among adults aged >=18 Years', 'Taking medicine for high blood pressure control among adults aged >=18 Years with high blood pressure', 'Arthritis among adults aged >=18 Years', 'Chronic kidney disease among adults aged >=18 Years', 'High blood pressure among adults aged >=18 Years', 'Diagnosed diabetes among adults aged >=18 Years', 'Sleeping less than 7 hours among adults aged >=18 Years', 'Current smoking among adults aged >=18 Years']\n"
     ]
    }
   ],
   "source": [
    "# These are the variables/measures that we are interested in\n",
    "print(list(measures_of_interest))"
   ]
  },
  {
   "cell_type": "code",
   "execution_count": 13,
   "metadata": {
    "scrolled": true
   },
   "outputs": [],
   "source": [
    "# making a separate df for each measure\n",
    "df_list = [df[df[\"Measure\"] == x] for x in measures_of_interest] "
   ]
  },
  {
   "cell_type": "code",
   "execution_count": 14,
   "metadata": {},
   "outputs": [],
   "source": [
    "# A little bit of reformatting of our dataframes, which will be merged together into a master df\n",
    "metric_dfs = []\n",
    "for df in df_list:\n",
    "    df.reset_index(inplace=True, drop=True)\n",
    "    temp = pd.DataFrame({df.MeasureId[0]:df.Data_Value, # this is the actual value for the measure\n",
    "                         \"UniqueID\":df.UniqueID,\"geometry\":df.GeoLocation, # UniqueID and geolocation cols\n",
    "                         \"state\":df.StateAbbr, \"population\":df.PopulationCount,\n",
    "                         \"longitude\": df.Longitude, \"latitude\":df.Latitude,})\n",
    "    metric_dfs.append(temp)"
   ]
  },
  {
   "cell_type": "code",
   "execution_count": 15,
   "metadata": {
    "scrolled": false
   },
   "outputs": [
    {
     "data": {
      "text/plain": [
       "28004"
      ]
     },
     "execution_count": 15,
     "metadata": {},
     "output_type": "execute_result"
    }
   ],
   "source": [
    "metric_dfs[0].UniqueID.value_counts().sum()"
   ]
  },
  {
   "cell_type": "code",
   "execution_count": 16,
   "metadata": {},
   "outputs": [],
   "source": [
    "# Create master DF of all metrics dfs\n",
    "master = pd.merge(metric_dfs[0],metric_dfs[1], how='left',on=\"UniqueID\") \n",
    "for i in metric_dfs[2:]: # merging the rest with a for loop\n",
    "    master = master.merge(i, how = \"left\",on=\"UniqueID\")"
   ]
  },
  {
   "cell_type": "code",
   "execution_count": 17,
   "metadata": {
    "scrolled": false
   },
   "outputs": [
    {
     "data": {
      "text/plain": [
       "Index(['MHLTH', 'UniqueID', 'geometry_x', 'state_x', 'population_x',\n",
       "       'longitude_x', 'latitude_x', 'HIGHCHOL', 'geometry_y', 'state_y',\n",
       "       ...\n",
       "       'state_y', 'population_y', 'longitude_y', 'latitude_y', 'CSMOKING',\n",
       "       'geometry', 'state', 'population', 'longitude', 'latitude'],\n",
       "      dtype='object', length=127)"
      ]
     },
     "execution_count": 17,
     "metadata": {},
     "output_type": "execute_result"
    }
   ],
   "source": [
    "master.columns"
   ]
  },
  {
   "cell_type": "code",
   "execution_count": 18,
   "metadata": {},
   "outputs": [],
   "source": [
    "# drop duplicate columns from merge\n",
    "master = master.T.drop_duplicates().T "
   ]
  },
  {
   "cell_type": "code",
   "execution_count": 19,
   "metadata": {},
   "outputs": [
    {
     "data": {
      "text/plain": [
       "Index(['MHLTH', 'UniqueID', 'geometry_x', 'state_x', 'population_x',\n",
       "       'longitude_x', 'latitude_x', 'HIGHCHOL', 'LPA', 'PHLTH', 'CANCER',\n",
       "       'DENTAL', 'COPD', 'OBESITY', 'STROKE', 'CHECKUP', 'CHOLSCREEN',\n",
       "       'CASTHMA', 'BINGE', 'CHD', 'BPMED', 'ARTHRITIS', 'KIDNEY', 'BPHIGH',\n",
       "       'DIABETES', 'SLEEP', 'CSMOKING'],\n",
       "      dtype='object')"
      ]
     },
     "execution_count": 19,
     "metadata": {},
     "output_type": "execute_result"
    }
   ],
   "source": [
    "master.columns"
   ]
  },
  {
   "cell_type": "code",
   "execution_count": 20,
   "metadata": {},
   "outputs": [],
   "source": [
    "# Rename the columns that have an _x suffix\n",
    "master.rename({\"geometry_x\":\"geometry\",\"state_x\":\"state\",\"population_x\":\"population\",\"longitude_x\":\"longitude\",\n",
    "              \"latitude_x\":\"latitude\"}, axis = 1, inplace = True)"
   ]
  },
  {
   "cell_type": "code",
   "execution_count": 21,
   "metadata": {},
   "outputs": [
    {
     "data": {
      "text/plain": [
       "'01070'"
      ]
     },
     "execution_count": 21,
     "metadata": {},
     "output_type": "execute_result"
    }
   ],
   "source": [
    "#The 5 digit fips codes can be pulled from the first 5 indices of the unique ID\n",
    "##... using this to aggregate data to the county level, since thats the income data I have\n",
    "master.UniqueID[0][0:5] "
   ]
  },
  {
   "cell_type": "code",
   "execution_count": 22,
   "metadata": {},
   "outputs": [],
   "source": [
    "# list comprehension to add county fips code column to all rows\n",
    "master[\"fips\"] = [x[0:5] for x in master.UniqueID] "
   ]
  },
  {
   "cell_type": "code",
   "execution_count": 23,
   "metadata": {
    "scrolled": true
   },
   "outputs": [
    {
     "data": {
      "text/plain": [
       "((27204, 28), (28004, 28))"
      ]
     },
     "execution_count": 23,
     "metadata": {},
     "output_type": "execute_result"
    }
   ],
   "source": [
    "# Check how much data we would lose by dropping columns containing NA values\n",
    "master.dropna().shape, master.shape"
   ]
  },
  {
   "cell_type": "code",
   "execution_count": 24,
   "metadata": {},
   "outputs": [],
   "source": [
    "# Since it's not too many, we can drop the rows without significantly affecting our analysis\n",
    "# Assumption made for simplicity that columns are missing entirely at random\n",
    "master.dropna(inplace=True)"
   ]
  },
  {
   "cell_type": "code",
   "execution_count": 25,
   "metadata": {},
   "outputs": [],
   "source": [
    "#dropping these columns since I am aggregating on fips code (County)\n",
    "clean_master = master.drop([\"UniqueID\", \"geometry\",\"population\",\"latitude\",\"longitude\",\"state\"], axis = 1)"
   ]
  },
  {
   "cell_type": "code",
   "execution_count": 26,
   "metadata": {
    "scrolled": true
   },
   "outputs": [
    {
     "data": {
      "text/plain": [
       "Index(['MHLTH', 'HIGHCHOL', 'LPA', 'PHLTH', 'CANCER', 'DENTAL', 'COPD',\n",
       "       'OBESITY', 'STROKE', 'CHECKUP', 'CHOLSCREEN', 'CASTHMA', 'BINGE', 'CHD',\n",
       "       'BPMED', 'ARTHRITIS', 'KIDNEY', 'BPHIGH', 'DIABETES', 'SLEEP',\n",
       "       'CSMOKING', 'fips'],\n",
       "      dtype='object')"
      ]
     },
     "execution_count": 26,
     "metadata": {},
     "output_type": "execute_result"
    }
   ],
   "source": [
    "clean_master.columns"
   ]
  },
  {
   "cell_type": "code",
   "execution_count": 27,
   "metadata": {
    "scrolled": true
   },
   "outputs": [],
   "source": [
    "# need to change these columns from 'object' to 'float'\n",
    "for col in ['DIABETES', 'CHOLSCREEN', 'MHLTH', 'CSMOKING', 'BPHIGH', 'CANCER',\n",
    "       'CASTHMA', 'CHD', 'PHLTH', 'BPMED', 'KIDNEY', 'BINGE', 'DENTAL',\n",
    "       'STROKE', 'SLEEP', 'OBESITY', 'COPD', 'LPA', 'CHECKUP', 'HIGHCHOL',\n",
    "       'ARTHRITIS']:\n",
    "    clean_master[col] = clean_master[col].astype(float) "
   ]
  },
  {
   "cell_type": "code",
   "execution_count": 28,
   "metadata": {},
   "outputs": [],
   "source": [
    "# Aggregate data by taking the means of each column and grouping by the \"fips\" code column\n",
    "agg_data = clean_master.groupby(\"fips\").mean()"
   ]
  },
  {
   "cell_type": "code",
   "execution_count": 29,
   "metadata": {},
   "outputs": [],
   "source": [
    "agg_data.reset_index(drop=False, inplace=True)"
   ]
  },
  {
   "cell_type": "code",
   "execution_count": 30,
   "metadata": {
    "scrolled": true
   },
   "outputs": [],
   "source": [
    "# format for export so we dont lose leading 0s\n",
    "agg_data[\"fips\"] = agg_data['fips'].astype(str) "
   ]
  },
  {
   "cell_type": "code",
   "execution_count": 31,
   "metadata": {},
   "outputs": [],
   "source": [
    "#write the data to csv\n",
    "agg_data.to_csv(\"./datasets/agg_county_data_final.csv\")"
   ]
  },
  {
   "cell_type": "code",
   "execution_count": 32,
   "metadata": {},
   "outputs": [
    {
     "data": {
      "text/plain": [
       "(484, 22)"
      ]
     },
     "execution_count": 32,
     "metadata": {},
     "output_type": "execute_result"
    }
   ],
   "source": [
    "#484 resulting fips code values once aggregated\n",
    "agg_data.shape"
   ]
  },
  {
   "cell_type": "code",
   "execution_count": null,
   "metadata": {},
   "outputs": [],
   "source": []
  }
 ],
 "metadata": {
  "kernelspec": {
   "display_name": "Python 3",
   "language": "python",
   "name": "python3"
  },
  "language_info": {
   "codemirror_mode": {
    "name": "ipython",
    "version": 3
   },
   "file_extension": ".py",
   "mimetype": "text/x-python",
   "name": "python",
   "nbconvert_exporter": "python",
   "pygments_lexer": "ipython3",
   "version": "3.7.7"
  }
 },
 "nbformat": 4,
 "nbformat_minor": 2
}
