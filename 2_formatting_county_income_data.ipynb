{
 "cells": [
  {
   "cell_type": "code",
   "execution_count": null,
   "metadata": {},
   "outputs": [],
   "source": [
    "import pandas as pd\n",
    "import regex as re\n",
    "import matplotlib.pyplot as plt\n",
    "\n",
    "from sklearn.model_selection import train_test_split"
   ]
  },
  {
   "cell_type": "code",
   "execution_count": null,
   "metadata": {},
   "outputs": [],
   "source": [
    "income = pd.read_csv(\"./datasets/us_county_income.csv\").drop([\"Unnamed: 0\", \"Rank\"], axis = 1)"
   ]
  },
  {
   "cell_type": "code",
   "execution_count": null,
   "metadata": {
    "scrolled": true
   },
   "outputs": [],
   "source": [
    "income.head()"
   ]
  },
  {
   "cell_type": "code",
   "execution_count": null,
   "metadata": {},
   "outputs": [],
   "source": [
    "import addfips ## Going to add 5 digit county fips codes to this data using addfips\n",
    "from progressbar import ProgressBar"
   ]
  },
  {
   "cell_type": "code",
   "execution_count": null,
   "metadata": {},
   "outputs": [],
   "source": [
    "af = addfips.AddFIPS()\n",
    "af.get_county_fips(\"Arlington\", state = \"Virginia\") # output of addfips looks like this"
   ]
  },
  {
   "cell_type": "code",
   "execution_count": null,
   "metadata": {},
   "outputs": [],
   "source": [
    "income.reset_index(drop=True, inplace=True)"
   ]
  },
  {
   "cell_type": "code",
   "execution_count": null,
   "metadata": {},
   "outputs": [],
   "source": [
    "## loop to creat list of fips codes that will be used to create the 'fips' column\n",
    "# Using a progressbar to show progress since this may take a while\n",
    "bar = ProgressBar() \n",
    "fips_codes = []\n",
    "for i in bar(range(income.shape[0])):\n",
    "    af = addfips.AddFIPS()\n",
    "    fip = af.get_county_fips(county = f\"{income['County-equivalent'][i]}\",\n",
    "                             state = f\"{income['State'][i]}\")\n",
    "    try:\n",
    "        fips_codes.append(fip)\n",
    "    except TypeError:\n",
    "        fips_codes.append(0)"
   ]
  },
  {
   "cell_type": "code",
   "execution_count": null,
   "metadata": {
    "scrolled": false
   },
   "outputs": [],
   "source": [
    "# add fips col to dataframe\n",
    "income['fips'] = fips_codes "
   ]
  },
  {
   "cell_type": "code",
   "execution_count": null,
   "metadata": {},
   "outputs": [],
   "source": [
    "#This is DC.  It did not get a fips code assigned to it\n",
    "print(income[\"fips\"][22])"
   ]
  },
  {
   "cell_type": "code",
   "execution_count": null,
   "metadata": {},
   "outputs": [],
   "source": [
    "# add DC fips manually since it is not included\n",
    "income.fips[22] = \"11001\" "
   ]
  },
  {
   "cell_type": "code",
   "execution_count": null,
   "metadata": {
    "scrolled": true
   },
   "outputs": [],
   "source": [
    "income.head(23)"
   ]
  },
  {
   "cell_type": "code",
   "execution_count": null,
   "metadata": {},
   "outputs": [],
   "source": [
    "### the following cells are to appropriately format the columns for export\n",
    "\n",
    "income[\"Per capitaincome\"] = income[\"Per capitaincome\"].astype(str)\n",
    "income[\"Medianfamilyincome\"] = income[\"Medianfamilyincome\"].astype(str)\n",
    "income[\"Medianhouseholdincome\"] = income[\"Medianhouseholdincome\"].astype(str)\n"
   ]
  },
  {
   "cell_type": "code",
   "execution_count": null,
   "metadata": {},
   "outputs": [],
   "source": [
    "income[\"Per capitaincome\"] = [x.replace(\"$\",\"\").replace(\",\",\"\") for x in income[\"Per capitaincome\"]]\n",
    "income[\"Medianfamilyincome\"] = [x.replace(\"$\",\"\").replace(\",\",\"\") for x in income[\"Medianfamilyincome\"]]\n",
    "income[\"Medianhouseholdincome\"] = [x.replace(\"$\",\"\").replace(\",\",\"\") for x in income[\"Medianhouseholdincome\"]]"
   ]
  },
  {
   "cell_type": "code",
   "execution_count": null,
   "metadata": {},
   "outputs": [],
   "source": [
    "income[\"Per capitaincome\"] = income[\"Per capitaincome\"].astype(float)\n",
    "income[\"Medianfamilyincome\"] = income[\"Medianfamilyincome\"].astype(float)\n",
    "income[\"Medianhouseholdincome\"] = income[\"Medianhouseholdincome\"].astype(float)\n",
    "income[\"fips\"] = income[\"fips\"].astype(str)"
   ]
  },
  {
   "cell_type": "code",
   "execution_count": null,
   "metadata": {},
   "outputs": [],
   "source": [
    "income.head()"
   ]
  },
  {
   "cell_type": "code",
   "execution_count": null,
   "metadata": {},
   "outputs": [],
   "source": [
    "income = income[income[\"fips\"] != \"None\"]"
   ]
  },
  {
   "cell_type": "code",
   "execution_count": null,
   "metadata": {},
   "outputs": [],
   "source": [
    "income.shape"
   ]
  },
  {
   "cell_type": "code",
   "execution_count": null,
   "metadata": {},
   "outputs": [],
   "source": [
    "income.to_csv(\"./datasets/county_income_final.csv\")"
   ]
  },
  {
   "cell_type": "code",
   "execution_count": null,
   "metadata": {},
   "outputs": [],
   "source": []
  }
 ],
 "metadata": {
  "kernelspec": {
   "display_name": "Python 3",
   "language": "python",
   "name": "python3"
  },
  "language_info": {
   "codemirror_mode": {
    "name": "ipython",
    "version": 3
   },
   "file_extension": ".py",
   "mimetype": "text/x-python",
   "name": "python",
   "nbconvert_exporter": "python",
   "pygments_lexer": "ipython3",
   "version": "3.7.7"
  }
 },
 "nbformat": 4,
 "nbformat_minor": 2
}
