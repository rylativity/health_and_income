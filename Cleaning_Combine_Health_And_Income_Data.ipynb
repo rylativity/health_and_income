{
 "cells": [
  {
   "cell_type": "markdown",
   "metadata": {},
   "source": [
    "# Data Cleaning"
   ]
  },
  {
   "cell_type": "code",
   "execution_count": 15,
   "metadata": {},
   "outputs": [],
   "source": [
    "import pandas as pd\n",
    "import regex as re\n",
    "import matplotlib.pyplot as plt\n",
    "from uszipcode import SearchEngine\n",
    "import numpy as np\n",
    "from progressbar import ProgressBar\n",
    "import math\n",
    "import json\n",
    "\n",
    "from sklearn.model_selection import train_test_split\n",
    "# state_names = [\"Alaska\", \"Alabama\", \"Arkansas\", \"American Samoa\", \"Arizona\", \"California\", \"Colorado\", \"Connecticut\", \"District \", \"of Columbia\", \"Delaware\", \"Florida\", \"Georgia\", \"Guam\", \"Hawaii\", \"Iowa\", \"Idaho\", \"Illinois\", \"Indiana\", \"Kansas\", \"Kentucky\", \"Louisiana\", \"Massachusetts\", \"Maryland\", \"Maine\", \"Michigan\", \"Minnesota\", \"Missouri\", \"Mississippi\", \"Montana\", \"North Carolina\", \"North Dakota\", \"Nebraska\", \"New Hampshire\", \"New Jersey\", \"New Mexico\", \"Nevada\", \"New York\", \"Ohio\", \"Oklahoma\", \"Oregon\", \"Pennsylvania\", \"Puerto Rico\", \"Rhode Island\", \"South Carolina\", \"South Dakota\", \"Tennessee\", \"Texas\", \"Utah\", \"Virginia\", \"Virgin Islands\", \"Vermont\", \"Washington\", \"Wisconsin\", \"West Virginia\", \"Wyoming\"]"
   ]
  },
  {
   "cell_type": "code",
   "execution_count": 2,
   "metadata": {
    "scrolled": false
   },
   "outputs": [],
   "source": [
    "### NOTE: You must unzip the 500 Cities Dataset first before reading it in with this line\n",
    "raw_health = pd.read_csv(\"./sourcedata/500_Cities__Local_Data_for_Better_Health__2017_release.csv\")\n",
    "raw_metro_income = pd.read_csv('./sourcedata/metropolitan_income_data.csv')\n",
    "raw_county_income = pd.read_csv(\"./sourcedata/county_income.csv\")"
   ]
  },
  {
   "cell_type": "markdown",
   "metadata": {},
   "source": [
    "### Clean County Income Data"
   ]
  },
  {
   "cell_type": "code",
   "execution_count": null,
   "metadata": {},
   "outputs": [],
   "source": [
    "raw_county_income.dropna(how=\"all\",inplace=True)\n",
    "raw_county_income.dropna(subset=[\"2017\"], inplace=True)"
   ]
  },
  {
   "cell_type": "code",
   "execution_count": null,
   "metadata": {
    "scrolled": true
   },
   "outputs": [],
   "source": [
    "raw_county_income[\"Rank_In_State_2018\"] = raw_county_income[\"Rank_In_State_2018\"].astype(int)"
   ]
  },
  {
   "cell_type": "code",
   "execution_count": null,
   "metadata": {},
   "outputs": [],
   "source": [
    "raw_county_income.reset_index(drop=True, inplace=True)\n",
    "raw_county_income.head()"
   ]
  },
  {
   "cell_type": "code",
   "execution_count": null,
   "metadata": {},
   "outputs": [],
   "source": [
    "#Need to reformat raw_county_income which has both states and counties listed in rows\n",
    "counties_dicts = []\n",
    "for i in range(raw_county_income.shape[0]):\n",
    "    if raw_county_income[\"Rank_In_State_2018\"][i] == 0: #if ==0, it is the state, not a county\n",
    "        state_name = raw_county_income[\"County_Or_State\"][i]\n",
    "    else:\n",
    "        county_dict = {\"city_county\":raw_county_income[\"County_Or_State\"][i],\n",
    "                       \"state\":state_name,\n",
    "                       \"2017\":raw_county_income[\"2017\"][i],\n",
    "                      \"Rank_In_State_2018\":raw_county_income[\"Rank_In_State_2018\"][i]}\n",
    "        counties_dicts.append(county_dict)\n",
    "    if(i == raw_county_income.shape[0]-1) or (raw_county_income[\"Rank_In_State_2018\"][i+1] == 0):\n",
    "        counties_dicts.append(county_dict)\n",
    "    \n",
    "        "
   ]
  },
  {
   "cell_type": "code",
   "execution_count": null,
   "metadata": {
    "scrolled": false
   },
   "outputs": [],
   "source": [
    "county_income_df = pd.DataFrame(counties_dicts, index=range(len(counties_dicts)))\n",
    "county_income_df[\"type\"] = [\"county\" for i in range(county_income_df.shape[0])]"
   ]
  },
  {
   "cell_type": "code",
   "execution_count": null,
   "metadata": {},
   "outputs": [],
   "source": [
    "county_income_df.head()"
   ]
  },
  {
   "cell_type": "markdown",
   "metadata": {},
   "source": [
    "### Clean Metro (City) Income Data"
   ]
  },
  {
   "cell_type": "code",
   "execution_count": null,
   "metadata": {
    "scrolled": true
   },
   "outputs": [],
   "source": [
    "raw_metro_income.head(2)"
   ]
  },
  {
   "cell_type": "code",
   "execution_count": null,
   "metadata": {},
   "outputs": [],
   "source": [
    "raw_metro_income[\"city_county\"] = [i.split(\",\")[0] for i in raw_metro_income[\"Metro_Area\"]]\n",
    "raw_metro_income[\"state\"] = [i.split(\",\")[1].strip() for i in raw_metro_income[\"Metro_Area\"]]\n",
    "raw_metro_income.drop([\"Metro_Area\",\"2016\",\"2018\"], axis = 1, inplace = True)"
   ]
  },
  {
   "cell_type": "code",
   "execution_count": null,
   "metadata": {},
   "outputs": [],
   "source": [
    "raw_metro_income[\"type\"] = [\"city\" for i in range(raw_metro_income.shape[0])]\n",
    "raw_metro_income.head()"
   ]
  },
  {
   "cell_type": "markdown",
   "metadata": {},
   "source": [
    "### Combine County and Metro(City) Income DataFrames"
   ]
  },
  {
   "cell_type": "code",
   "execution_count": null,
   "metadata": {},
   "outputs": [],
   "source": [
    "income = pd.concat([raw_metro_income, county_income_df])"
   ]
  },
  {
   "cell_type": "code",
   "execution_count": null,
   "metadata": {},
   "outputs": [],
   "source": [
    "income.reset_index(drop=True, inplace=True)\n",
    "print(income.shape)\n",
    "income.head()"
   ]
  },
  {
   "cell_type": "code",
   "execution_count": null,
   "metadata": {},
   "outputs": [],
   "source": [
    "# Get Zipcodes for income data by city and state\n",
    "def get_zipcode_by_city_state(city:str, state:str, search_engine=None) -> str:\n",
    "    if search_engine == None:\n",
    "        search_engine = SearchEngine(simple_zipcode=True)\n",
    "    try:\n",
    "        zips = search_engine.by_city_and_state(city, state)\n",
    "        return zips.zipcode\n",
    "    except AttributeError:\n",
    "        return \",\".join([z.zipcode for z in zips]) \n",
    "    except KeyError:\n",
    "        return \"NotFound\""
   ]
  },
  {
   "cell_type": "code",
   "execution_count": null,
   "metadata": {
    "scrolled": false
   },
   "outputs": [],
   "source": [
    "search_engine = SearchEngine(simple_zipcode=True)\n",
    "zipcodes = []\n",
    "for row in range(income.shape[0]):\n",
    "    zipcode = get_zipcode_by_city_state(income[\"city_county\"][row], income[\"state\"][row], search_engine)\n",
    "    zipcodes.append(zipcode)\n",
    "        "
   ]
  },
  {
   "cell_type": "code",
   "execution_count": null,
   "metadata": {},
   "outputs": [],
   "source": [
    "income[\"zips\"] = zipcodes"
   ]
  },
  {
   "cell_type": "code",
   "execution_count": null,
   "metadata": {
    "scrolled": true
   },
   "outputs": [],
   "source": [
    "income.to_csv(\"./processeddata/income_city_county_zipcode.csv\")"
   ]
  },
  {
   "cell_type": "markdown",
   "metadata": {},
   "source": [
    "### Clean Health Data"
   ]
  },
  {
   "cell_type": "code",
   "execution_count": 3,
   "metadata": {
    "scrolled": false
   },
   "outputs": [
    {
     "data": {
      "text/plain": [
       "Census Tract    782047\n",
       "City             28000\n",
       "US                  56\n",
       "Name: GeographicLevel, dtype: int64"
      ]
     },
     "execution_count": 3,
     "metadata": {},
     "output_type": "execute_result"
    }
   ],
   "source": [
    "raw_health[\"GeographicLevel\"].value_counts()"
   ]
  },
  {
   "cell_type": "code",
   "execution_count": 4,
   "metadata": {},
   "outputs": [],
   "source": [
    "# states = raw_health[raw_health[\"GeographicLevel\"] == \"US\"]\n",
    "# cities = raw_health[raw_health[\"GeographicLevel\"] == \"City\"]\n",
    "census_tracts = raw_health[raw_health[\"GeographicLevel\"] == \"Census Tract\"]\n",
    "census_tracts.reset_index(drop = True, inplace = True)"
   ]
  },
  {
   "cell_type": "code",
   "execution_count": 5,
   "metadata": {},
   "outputs": [
    {
     "data": {
      "text/plain": [
       "Index(['Year', 'StateAbbr', 'StateDesc', 'CityName', 'GeographicLevel',\n",
       "       'DataSource', 'Category', 'UniqueID', 'Measure', 'Data_Value_Unit',\n",
       "       'DataValueTypeID', 'Data_Value_Type', 'Data_Value',\n",
       "       'Low_Confidence_Limit', 'High_Confidence_Limit',\n",
       "       'Data_Value_Footnote_Symbol', 'Data_Value_Footnote', 'PopulationCount',\n",
       "       'GeoLocation', 'CategoryID', 'MeasureId', 'CityFIPS', 'TractFIPS',\n",
       "       'Short_Question_Text'],\n",
       "      dtype='object')"
      ]
     },
     "execution_count": 5,
     "metadata": {},
     "output_type": "execute_result"
    }
   ],
   "source": [
    "census_tracts.columns"
   ]
  },
  {
   "cell_type": "code",
   "execution_count": 6,
   "metadata": {
    "scrolled": true
   },
   "outputs": [
    {
     "data": {
      "text/html": [
       "<div>\n",
       "<style scoped>\n",
       "    .dataframe tbody tr th:only-of-type {\n",
       "        vertical-align: middle;\n",
       "    }\n",
       "\n",
       "    .dataframe tbody tr th {\n",
       "        vertical-align: top;\n",
       "    }\n",
       "\n",
       "    .dataframe thead th {\n",
       "        text-align: right;\n",
       "    }\n",
       "</style>\n",
       "<table border=\"1\" class=\"dataframe\">\n",
       "  <thead>\n",
       "    <tr style=\"text-align: right;\">\n",
       "      <th></th>\n",
       "      <th>Year</th>\n",
       "      <th>StateAbbr</th>\n",
       "      <th>StateDesc</th>\n",
       "      <th>CityName</th>\n",
       "      <th>GeographicLevel</th>\n",
       "      <th>DataSource</th>\n",
       "      <th>Category</th>\n",
       "      <th>UniqueID</th>\n",
       "      <th>Measure</th>\n",
       "      <th>Data_Value_Unit</th>\n",
       "      <th>...</th>\n",
       "      <th>High_Confidence_Limit</th>\n",
       "      <th>Data_Value_Footnote_Symbol</th>\n",
       "      <th>Data_Value_Footnote</th>\n",
       "      <th>PopulationCount</th>\n",
       "      <th>GeoLocation</th>\n",
       "      <th>CategoryID</th>\n",
       "      <th>MeasureId</th>\n",
       "      <th>CityFIPS</th>\n",
       "      <th>TractFIPS</th>\n",
       "      <th>Short_Question_Text</th>\n",
       "    </tr>\n",
       "  </thead>\n",
       "  <tbody>\n",
       "    <tr>\n",
       "      <th>0</th>\n",
       "      <td>2015</td>\n",
       "      <td>AL</td>\n",
       "      <td>Alabama</td>\n",
       "      <td>Birmingham</td>\n",
       "      <td>Census Tract</td>\n",
       "      <td>BRFSS</td>\n",
       "      <td>Prevention</td>\n",
       "      <td>0107000-01073000100</td>\n",
       "      <td>Current lack of health insurance among adults ...</td>\n",
       "      <td>%</td>\n",
       "      <td>...</td>\n",
       "      <td>27.2</td>\n",
       "      <td>NaN</td>\n",
       "      <td>NaN</td>\n",
       "      <td>3042.0</td>\n",
       "      <td>(33.5794328326, -86.7228323926)</td>\n",
       "      <td>PREVENT</td>\n",
       "      <td>ACCESS2</td>\n",
       "      <td>107000.0</td>\n",
       "      <td>1.073000e+09</td>\n",
       "      <td>Health Insurance</td>\n",
       "    </tr>\n",
       "    <tr>\n",
       "      <th>1</th>\n",
       "      <td>2015</td>\n",
       "      <td>AL</td>\n",
       "      <td>Alabama</td>\n",
       "      <td>Birmingham</td>\n",
       "      <td>Census Tract</td>\n",
       "      <td>BRFSS</td>\n",
       "      <td>Prevention</td>\n",
       "      <td>0107000-01073000300</td>\n",
       "      <td>Current lack of health insurance among adults ...</td>\n",
       "      <td>%</td>\n",
       "      <td>...</td>\n",
       "      <td>32.4</td>\n",
       "      <td>NaN</td>\n",
       "      <td>NaN</td>\n",
       "      <td>2735.0</td>\n",
       "      <td>(33.5428208686, -86.752433978)</td>\n",
       "      <td>PREVENT</td>\n",
       "      <td>ACCESS2</td>\n",
       "      <td>107000.0</td>\n",
       "      <td>1.073000e+09</td>\n",
       "      <td>Health Insurance</td>\n",
       "    </tr>\n",
       "    <tr>\n",
       "      <th>2</th>\n",
       "      <td>2015</td>\n",
       "      <td>AL</td>\n",
       "      <td>Alabama</td>\n",
       "      <td>Birmingham</td>\n",
       "      <td>Census Tract</td>\n",
       "      <td>BRFSS</td>\n",
       "      <td>Prevention</td>\n",
       "      <td>0107000-01073000400</td>\n",
       "      <td>Current lack of health insurance among adults ...</td>\n",
       "      <td>%</td>\n",
       "      <td>...</td>\n",
       "      <td>29.9</td>\n",
       "      <td>NaN</td>\n",
       "      <td>NaN</td>\n",
       "      <td>3338.0</td>\n",
       "      <td>(33.5632449633, -86.7640474064)</td>\n",
       "      <td>PREVENT</td>\n",
       "      <td>ACCESS2</td>\n",
       "      <td>107000.0</td>\n",
       "      <td>1.073000e+09</td>\n",
       "      <td>Health Insurance</td>\n",
       "    </tr>\n",
       "    <tr>\n",
       "      <th>3</th>\n",
       "      <td>2015</td>\n",
       "      <td>AL</td>\n",
       "      <td>Alabama</td>\n",
       "      <td>Birmingham</td>\n",
       "      <td>Census Tract</td>\n",
       "      <td>BRFSS</td>\n",
       "      <td>Prevention</td>\n",
       "      <td>0107000-01073000500</td>\n",
       "      <td>Current lack of health insurance among adults ...</td>\n",
       "      <td>%</td>\n",
       "      <td>...</td>\n",
       "      <td>32.0</td>\n",
       "      <td>NaN</td>\n",
       "      <td>NaN</td>\n",
       "      <td>2864.0</td>\n",
       "      <td>(33.5442404594, -86.7749130719)</td>\n",
       "      <td>PREVENT</td>\n",
       "      <td>ACCESS2</td>\n",
       "      <td>107000.0</td>\n",
       "      <td>1.073000e+09</td>\n",
       "      <td>Health Insurance</td>\n",
       "    </tr>\n",
       "    <tr>\n",
       "      <th>4</th>\n",
       "      <td>2015</td>\n",
       "      <td>AL</td>\n",
       "      <td>Alabama</td>\n",
       "      <td>Birmingham</td>\n",
       "      <td>Census Tract</td>\n",
       "      <td>BRFSS</td>\n",
       "      <td>Prevention</td>\n",
       "      <td>0107000-01073000700</td>\n",
       "      <td>Current lack of health insurance among adults ...</td>\n",
       "      <td>%</td>\n",
       "      <td>...</td>\n",
       "      <td>36.7</td>\n",
       "      <td>NaN</td>\n",
       "      <td>NaN</td>\n",
       "      <td>2577.0</td>\n",
       "      <td>(33.5525406139, -86.8016893706)</td>\n",
       "      <td>PREVENT</td>\n",
       "      <td>ACCESS2</td>\n",
       "      <td>107000.0</td>\n",
       "      <td>1.073001e+09</td>\n",
       "      <td>Health Insurance</td>\n",
       "    </tr>\n",
       "  </tbody>\n",
       "</table>\n",
       "<p>5 rows × 24 columns</p>\n",
       "</div>"
      ],
      "text/plain": [
       "   Year StateAbbr StateDesc    CityName GeographicLevel DataSource  \\\n",
       "0  2015        AL   Alabama  Birmingham    Census Tract      BRFSS   \n",
       "1  2015        AL   Alabama  Birmingham    Census Tract      BRFSS   \n",
       "2  2015        AL   Alabama  Birmingham    Census Tract      BRFSS   \n",
       "3  2015        AL   Alabama  Birmingham    Census Tract      BRFSS   \n",
       "4  2015        AL   Alabama  Birmingham    Census Tract      BRFSS   \n",
       "\n",
       "     Category             UniqueID  \\\n",
       "0  Prevention  0107000-01073000100   \n",
       "1  Prevention  0107000-01073000300   \n",
       "2  Prevention  0107000-01073000400   \n",
       "3  Prevention  0107000-01073000500   \n",
       "4  Prevention  0107000-01073000700   \n",
       "\n",
       "                                             Measure Data_Value_Unit  ...  \\\n",
       "0  Current lack of health insurance among adults ...               %  ...   \n",
       "1  Current lack of health insurance among adults ...               %  ...   \n",
       "2  Current lack of health insurance among adults ...               %  ...   \n",
       "3  Current lack of health insurance among adults ...               %  ...   \n",
       "4  Current lack of health insurance among adults ...               %  ...   \n",
       "\n",
       "  High_Confidence_Limit Data_Value_Footnote_Symbol  Data_Value_Footnote  \\\n",
       "0                  27.2                        NaN                  NaN   \n",
       "1                  32.4                        NaN                  NaN   \n",
       "2                  29.9                        NaN                  NaN   \n",
       "3                  32.0                        NaN                  NaN   \n",
       "4                  36.7                        NaN                  NaN   \n",
       "\n",
       "   PopulationCount                      GeoLocation CategoryID MeasureId  \\\n",
       "0           3042.0  (33.5794328326, -86.7228323926)    PREVENT   ACCESS2   \n",
       "1           2735.0   (33.5428208686, -86.752433978)    PREVENT   ACCESS2   \n",
       "2           3338.0  (33.5632449633, -86.7640474064)    PREVENT   ACCESS2   \n",
       "3           2864.0  (33.5442404594, -86.7749130719)    PREVENT   ACCESS2   \n",
       "4           2577.0  (33.5525406139, -86.8016893706)    PREVENT   ACCESS2   \n",
       "\n",
       "   CityFIPS     TractFIPS Short_Question_Text  \n",
       "0  107000.0  1.073000e+09    Health Insurance  \n",
       "1  107000.0  1.073000e+09    Health Insurance  \n",
       "2  107000.0  1.073000e+09    Health Insurance  \n",
       "3  107000.0  1.073000e+09    Health Insurance  \n",
       "4  107000.0  1.073001e+09    Health Insurance  \n",
       "\n",
       "[5 rows x 24 columns]"
      ]
     },
     "execution_count": 6,
     "metadata": {},
     "output_type": "execute_result"
    }
   ],
   "source": [
    "census_tracts.head()"
   ]
  },
  {
   "cell_type": "code",
   "execution_count": 7,
   "metadata": {
    "scrolled": true
   },
   "outputs": [
    {
     "data": {
      "text/plain": [
       "'(33.5794328326, -86.7228323926)'"
      ]
     },
     "execution_count": 7,
     "metadata": {},
     "output_type": "execute_result"
    }
   ],
   "source": [
    "# Example of a Geolocation from the Data\n",
    "census_tracts.GeoLocation[0]"
   ]
  },
  {
   "cell_type": "code",
   "execution_count": 8,
   "metadata": {},
   "outputs": [
    {
     "name": "stderr",
     "output_type": "stream",
     "text": [
      "/usr/local/lib/python3.7/site-packages/ipykernel_launcher.py:10: SettingWithCopyWarning: \n",
      "A value is trying to be set on a copy of a slice from a DataFrame.\n",
      "Try using .loc[row_indexer,col_indexer] = value instead\n",
      "\n",
      "See the caveats in the documentation: https://pandas.pydata.org/pandas-docs/stable/user_guide/indexing.html#returning-a-view-versus-a-copy\n",
      "  # Remove the CWD from sys.path while we load stuff.\n",
      "/usr/local/lib/python3.7/site-packages/ipykernel_launcher.py:11: SettingWithCopyWarning: \n",
      "A value is trying to be set on a copy of a slice from a DataFrame.\n",
      "Try using .loc[row_indexer,col_indexer] = value instead\n",
      "\n",
      "See the caveats in the documentation: https://pandas.pydata.org/pandas-docs/stable/user_guide/indexing.html#returning-a-view-versus-a-copy\n",
      "  # This is added back by InteractiveShellApp.init_path()\n"
     ]
    }
   ],
   "source": [
    "#Create latitude and longitude cols from GeoLocation\n",
    "latitudes = []\n",
    "longitudes = []\n",
    "for row in census_tracts[\"GeoLocation\"]:\n",
    "    swap = str(row)\n",
    "    swap = swap.replace(\"(\",\"\").replace(\")\",\"\").split(\",\")\n",
    "    lat, long = swap[0], swap[1].strip()\n",
    "    latitudes.append(lat)\n",
    "    longitudes.append(long)\n",
    "census_tracts[\"latitude\"] = latitudes\n",
    "census_tracts[\"longitude\"] = longitudes"
   ]
  },
  {
   "cell_type": "code",
   "execution_count": 9,
   "metadata": {},
   "outputs": [],
   "source": [
    "# Health data is structured odd, need to create a list of the various measures tracked in the dataset\n",
    "measures = list(census_tracts.Measure.value_counts().index)"
   ]
  },
  {
   "cell_type": "code",
   "execution_count": 10,
   "metadata": {
    "scrolled": false
   },
   "outputs": [
    {
     "name": "stdout",
     "output_type": "stream",
     "text": [
      "['Taking medicine for high blood pressure control among adults aged >=18 Years with high blood pressure', 'Mental health not good for >=14 days among adults aged >=18 Years', 'Diagnosed diabetes among adults aged >=18 Years', 'Obesity among adults aged >=18 Years', 'Visits to doctor for routine checkup within the past Year among adults aged >=18 Years', 'Chronic kidney disease among adults aged >=18 Years', 'Current asthma among adults aged >=18 Years', 'Current smoking among adults aged >=18 Years', 'Physical health not good for >=14 days among adults aged >=18 Years', 'Binge drinking among adults aged >=18 Years', 'Stroke among adults aged >=18 Years', 'Cholesterol screening among adults aged >=18 Years', 'High cholesterol among adults aged >=18 Years who have been screened in the past 5 Years', 'Arthritis among adults aged >=18 Years', 'Visits to dentist or dental clinic among adults aged >=18 Years', 'Sleeping less than 7 hours among adults aged >=18 Years', 'No leisure-time physical activity among adults aged >=18 Years', 'High blood pressure among adults aged >=18 Years', 'Chronic obstructive pulmonary disease among adults aged >=18 Years', 'Coronary heart disease among adults aged >=18 Years', 'Cancer (excluding skin cancer) among adults aged >=18 Years', 'Current lack of health insurance among adults aged 18–64 Years', 'Papanicolaou smear use among adult women aged 21–65 Years', 'Fecal occult blood test, sigmoidoscopy, or colonoscopy among adults aged 50–75 Years', 'Mammography use among women aged 50–74 Years', 'All teeth lost among adults aged >=65 Years', 'Older adult men aged >=65 Years who are up to date on a core set of clinical preventive services: Flu shot past Year, PPV shot ever, Colorectal cancer screening', 'Older adult women aged >=65 Years who are up to date on a core set of clinical preventive services: Flu shot past Year, PPV shot ever, Colorectal cancer screening, and Mammogram past 2 Years']\n"
     ]
    }
   ],
   "source": [
    "# These are each of the measures in the data, will have to reformat the data\n",
    "print(measures)"
   ]
  },
  {
   "cell_type": "code",
   "execution_count": 11,
   "metadata": {},
   "outputs": [],
   "source": [
    "### Create a dictionary to link metric abbreviations to meanings\n",
    "measure_abbvs = list(census_tracts.MeasureId.value_counts().index)"
   ]
  },
  {
   "cell_type": "code",
   "execution_count": 13,
   "metadata": {},
   "outputs": [],
   "source": [
    "measure_dictionary = {}\n",
    "for abbv in measure_abbvs:\n",
    "    meaning = census_tracts.loc[census_tracts[\"MeasureId\"] == abbv].head(1)[\"Measure\"].values[0]\n",
    "    measure_dictionary[abbv] = meaning"
   ]
  },
  {
   "cell_type": "code",
   "execution_count": 19,
   "metadata": {},
   "outputs": [],
   "source": [
    "## Write the measure meanings dictionary to a json file for use during modeling and exploration\n",
    "with open(\"./processeddata/measure_meanings.json\", \"w+\") as f:\n",
    "    f.write(json.dumps(measure_dictionary,indent=4))"
   ]
  },
  {
   "cell_type": "code",
   "execution_count": null,
   "metadata": {
    "scrolled": true
   },
   "outputs": [],
   "source": [
    "# making a separate df for each measure\n",
    "census_measures_dfs = [census_tracts[census_tracts[\"Measure\"] == measure] for measure in measures] "
   ]
  },
  {
   "cell_type": "code",
   "execution_count": null,
   "metadata": {
    "scrolled": true
   },
   "outputs": [],
   "source": [
    "census_measures_dfs[0].head(2)"
   ]
  },
  {
   "cell_type": "code",
   "execution_count": null,
   "metadata": {},
   "outputs": [],
   "source": [
    "# A little bit of reformatting of our dataframes, which will be merged together into a master df\n",
    "metric_dfs = []\n",
    "for df in census_measures_dfs:\n",
    "    df.reset_index(inplace=True, drop=True)\n",
    "    temp = pd.DataFrame({df.MeasureId[0]:df.Data_Value, # this is the actual value for the measure\n",
    "                         \"UniqueID\":df.UniqueID,\"geometry\":df.GeoLocation, # UniqueID and geolocation cols\n",
    "                         \"state\":df.StateAbbr, \"city_county\":df.CityName,\n",
    "                         \"longitude\": df.longitude, \"latitude\":df.latitude,\n",
    "                        \"tract_pop_count\":df.PopulationCount})\n",
    "    metric_dfs.append(temp)"
   ]
  },
  {
   "cell_type": "code",
   "execution_count": null,
   "metadata": {
    "scrolled": false
   },
   "outputs": [],
   "source": [
    "metric_dfs[2].head()"
   ]
  },
  {
   "cell_type": "code",
   "execution_count": null,
   "metadata": {},
   "outputs": [],
   "source": [
    "# Create master DF of all metrics dfs\n",
    "census_health = pd.merge(metric_dfs[0],metric_dfs[1], how='left',on=\"UniqueID\") \n",
    "for i in metric_dfs[2:]: # merging the rest with a for loop\n",
    "    census_health = census_health.merge(i, how = \"left\",on=\"UniqueID\")\n",
    "census_health.reset_index(drop=True,inplace=True)"
   ]
  },
  {
   "cell_type": "code",
   "execution_count": null,
   "metadata": {},
   "outputs": [],
   "source": [
    "cols = list(census_health.columns)\n",
    "for col in cols:\n",
    "    if col.endswith(\"_y\"):\n",
    "        census_health.drop(col, axis = 1, inplace = True)\n",
    "    elif col.endswith(\"_x\"):\n",
    "        census_health.rename({col:col.replace(\"_x\",\"\")}, axis=1, inplace = True)\n",
    "\n",
    "census_health = census_health.loc[:,~census_health.columns.duplicated()] # remove duplicates\n"
   ]
  },
  {
   "cell_type": "code",
   "execution_count": null,
   "metadata": {},
   "outputs": [],
   "source": [
    "census_health.head()"
   ]
  },
  {
   "cell_type": "code",
   "execution_count": null,
   "metadata": {},
   "outputs": [],
   "source": [
    "## Add zip codes to census tracts based\n",
    "def get_zipcode_by_lat_long(lat:str, long:str, radius=25, search_engine=None) -> str:\n",
    "    if search_engine == None:\n",
    "        search_engine = SearchEngine(simple_zipcode=True)\n",
    "    try:\n",
    "        zips = search_engine.by_coordinates(float(lat), float(long),radius, returns=1)#only taking best hit on zip, lat long should be precise enough for 1 zip\n",
    "        return zips.zipcode\n",
    "    except AttributeError:\n",
    "        return \",\".join([z.zipcode for z in zips]) \n",
    "    except KeyError:\n",
    "        return \"NotFound\""
   ]
  },
  {
   "cell_type": "code",
   "execution_count": null,
   "metadata": {},
   "outputs": [],
   "source": [
    "search_engine = SearchEngine(simple_zipcode=True)\n",
    "zipcodes = []\n",
    "for row in range(census_health.shape[0]):\n",
    "    zipcode = get_zipcode_by_lat_long(census_health[\"latitude\"][row], census_health[\"longitude\"][row], search_engine = search_engine)\n",
    "    zipcodes.append(zipcode)"
   ]
  },
  {
   "cell_type": "code",
   "execution_count": null,
   "metadata": {},
   "outputs": [],
   "source": [
    "census_health[\"zips\"] = zipcodes"
   ]
  },
  {
   "cell_type": "code",
   "execution_count": null,
   "metadata": {
    "scrolled": false
   },
   "outputs": [],
   "source": [
    "census_health.to_csv(\"./processeddata/census_health_data_zipcode.csv\")"
   ]
  },
  {
   "cell_type": "markdown",
   "metadata": {},
   "source": [
    "### Merge Health And Income Data On Zip Code"
   ]
  },
  {
   "cell_type": "code",
   "execution_count": null,
   "metadata": {},
   "outputs": [],
   "source": [
    "income = pd.read_csv(\"./processeddata/income_city_county_zipcode.csv\", dtype = {\"zips\":str})\n",
    "census_health = pd.read_csv(\"./processeddata/census_health_data_zipcode.csv\", dtype = {\"zips\":str})"
   ]
  },
  {
   "cell_type": "code",
   "execution_count": null,
   "metadata": {},
   "outputs": [],
   "source": [
    "income.drop([\"Unnamed: 0\",\"city_county\",\"state\"], axis=1, inplace=True)\n",
    "income.dropna(subset=[\"zips\"], inplace=True)\n",
    "\n",
    "census_health.drop(\"Unnamed: 0\", axis = 1, inplace = True)\n",
    "census_health.reset_index(drop=True, inplace=True)"
   ]
  },
  {
   "cell_type": "code",
   "execution_count": null,
   "metadata": {},
   "outputs": [],
   "source": [
    "income.columns"
   ]
  },
  {
   "cell_type": "code",
   "execution_count": null,
   "metadata": {},
   "outputs": [],
   "source": [
    "#Zipcodes not identified for 1037 counties/cities\n",
    "income[\"zips\"].isna().sum(), income.shape"
   ]
  },
  {
   "cell_type": "code",
   "execution_count": null,
   "metadata": {},
   "outputs": [],
   "source": [
    "census_health.head()"
   ]
  },
  {
   "cell_type": "code",
   "execution_count": null,
   "metadata": {},
   "outputs": [],
   "source": [
    "health_zipcodes = [str(i) for i in census_health[\"zips\"].value_counts().index]"
   ]
  },
  {
   "cell_type": "code",
   "execution_count": null,
   "metadata": {
    "scrolled": false
   },
   "outputs": [],
   "source": [
    "bar = ProgressBar()\n",
    "\n",
    "# Create income lookup dict from income df\n",
    "median_income_2017 = {}\n",
    "for zipcode in bar(census_health[\"zips\"].value_counts().index):\n",
    "\n",
    "    filtered_df = income[income[\"zips\"].str.contains(str(zipcode))] \n",
    "    \n",
    "    swap_income = [int(val) for val in filtered_df[\"2017\"].values if not math.isnan(val)] #might hit on multiple zips\n",
    "    mean_of_median_incs = np.mean(swap_income)\n",
    "    median_income_2017[str(zipcode)] = mean_of_median_incs\n",
    "        "
   ]
  },
  {
   "cell_type": "code",
   "execution_count": null,
   "metadata": {
    "scrolled": false
   },
   "outputs": [],
   "source": [
    "bar = ProgressBar()\n",
    "\n",
    "census_health[\"Median_Income_2017\"] = [np.NaN for i in range(census_health.shape[0])]\n",
    "for zipcode, inc in bar(median_income_2017.items()):\n",
    "    census_health.loc[census_health[\"zips\"] == zipcode, \"Median_Income_2017\"] = inc"
   ]
  },
  {
   "cell_type": "code",
   "execution_count": null,
   "metadata": {},
   "outputs": [],
   "source": [
    "# Need more precise income data as a lot of zipcodes don't have income data, may want to impute based on closest locs\n",
    "census_health.Median_Income_2017.isna().sum(), census_health.shape"
   ]
  },
  {
   "cell_type": "code",
   "execution_count": null,
   "metadata": {},
   "outputs": [],
   "source": [
    "census_health.to_csv(\"./processeddata/census_health_citycounty_income_final.csv\")"
   ]
  },
  {
   "cell_type": "code",
   "execution_count": null,
   "metadata": {},
   "outputs": [],
   "source": []
  }
 ],
 "metadata": {
  "kernelspec": {
   "display_name": "Python 3",
   "language": "python",
   "name": "python3"
  },
  "language_info": {
   "codemirror_mode": {
    "name": "ipython",
    "version": 3
   },
   "file_extension": ".py",
   "mimetype": "text/x-python",
   "name": "python",
   "nbconvert_exporter": "python",
   "pygments_lexer": "ipython3",
   "version": "3.7.7"
  }
 },
 "nbformat": 4,
 "nbformat_minor": 2
}
