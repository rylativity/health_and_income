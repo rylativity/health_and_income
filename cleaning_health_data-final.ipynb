{
 "cells": [
  {
   "cell_type": "code",
   "execution_count": 1,
   "metadata": {},
   "outputs": [],
   "source": [
    "import pandas as pd\n",
    "import regex as re\n",
    "import matplotlib.pyplot as plt\n",
    "\n",
    "from sklearn.model_selection import train_test_split"
   ]
  },
  {
   "cell_type": "code",
   "execution_count": 7,
   "metadata": {},
   "outputs": [],
   "source": [
    "read_in = pd.read_csv(\"./datasets/500_Cities__Local_Data_for_Better_Health__2017_release.csv\")"
   ]
  },
  {
   "cell_type": "code",
   "execution_count": 8,
   "metadata": {},
   "outputs": [],
   "source": [
    "df = read_in[read_in['GeographicLevel'] == \"Census Tract\"] # filtering for census tract level data"
   ]
  },
  {
   "cell_type": "code",
   "execution_count": 9,
   "metadata": {},
   "outputs": [
    {
     "data": {
      "text/html": [
       "<div>\n",
       "<style scoped>\n",
       "    .dataframe tbody tr th:only-of-type {\n",
       "        vertical-align: middle;\n",
       "    }\n",
       "\n",
       "    .dataframe tbody tr th {\n",
       "        vertical-align: top;\n",
       "    }\n",
       "\n",
       "    .dataframe thead th {\n",
       "        text-align: right;\n",
       "    }\n",
       "</style>\n",
       "<table border=\"1\" class=\"dataframe\">\n",
       "  <thead>\n",
       "    <tr style=\"text-align: right;\">\n",
       "      <th></th>\n",
       "      <th>Year</th>\n",
       "      <th>StateAbbr</th>\n",
       "      <th>StateDesc</th>\n",
       "      <th>CityName</th>\n",
       "      <th>GeographicLevel</th>\n",
       "      <th>DataSource</th>\n",
       "      <th>Category</th>\n",
       "      <th>UniqueID</th>\n",
       "      <th>Measure</th>\n",
       "      <th>Data_Value_Unit</th>\n",
       "      <th>...</th>\n",
       "      <th>High_Confidence_Limit</th>\n",
       "      <th>Data_Value_Footnote_Symbol</th>\n",
       "      <th>Data_Value_Footnote</th>\n",
       "      <th>PopulationCount</th>\n",
       "      <th>GeoLocation</th>\n",
       "      <th>CategoryID</th>\n",
       "      <th>MeasureId</th>\n",
       "      <th>CityFIPS</th>\n",
       "      <th>TractFIPS</th>\n",
       "      <th>Short_Question_Text</th>\n",
       "    </tr>\n",
       "  </thead>\n",
       "  <tbody>\n",
       "    <tr>\n",
       "      <th>58</th>\n",
       "      <td>2015</td>\n",
       "      <td>AL</td>\n",
       "      <td>Alabama</td>\n",
       "      <td>Birmingham</td>\n",
       "      <td>Census Tract</td>\n",
       "      <td>BRFSS</td>\n",
       "      <td>Prevention</td>\n",
       "      <td>0107000-01073000100</td>\n",
       "      <td>Current lack of health insurance among adults ...</td>\n",
       "      <td>%</td>\n",
       "      <td>...</td>\n",
       "      <td>27.2</td>\n",
       "      <td>NaN</td>\n",
       "      <td>NaN</td>\n",
       "      <td>3042.0</td>\n",
       "      <td>(33.5794328326, -86.7228323926)</td>\n",
       "      <td>PREVENT</td>\n",
       "      <td>ACCESS2</td>\n",
       "      <td>107000.0</td>\n",
       "      <td>1.073000e+09</td>\n",
       "      <td>Health Insurance</td>\n",
       "    </tr>\n",
       "    <tr>\n",
       "      <th>59</th>\n",
       "      <td>2015</td>\n",
       "      <td>AL</td>\n",
       "      <td>Alabama</td>\n",
       "      <td>Birmingham</td>\n",
       "      <td>Census Tract</td>\n",
       "      <td>BRFSS</td>\n",
       "      <td>Prevention</td>\n",
       "      <td>0107000-01073000300</td>\n",
       "      <td>Current lack of health insurance among adults ...</td>\n",
       "      <td>%</td>\n",
       "      <td>...</td>\n",
       "      <td>32.4</td>\n",
       "      <td>NaN</td>\n",
       "      <td>NaN</td>\n",
       "      <td>2735.0</td>\n",
       "      <td>(33.5428208686, -86.752433978)</td>\n",
       "      <td>PREVENT</td>\n",
       "      <td>ACCESS2</td>\n",
       "      <td>107000.0</td>\n",
       "      <td>1.073000e+09</td>\n",
       "      <td>Health Insurance</td>\n",
       "    </tr>\n",
       "    <tr>\n",
       "      <th>60</th>\n",
       "      <td>2015</td>\n",
       "      <td>AL</td>\n",
       "      <td>Alabama</td>\n",
       "      <td>Birmingham</td>\n",
       "      <td>Census Tract</td>\n",
       "      <td>BRFSS</td>\n",
       "      <td>Prevention</td>\n",
       "      <td>0107000-01073000400</td>\n",
       "      <td>Current lack of health insurance among adults ...</td>\n",
       "      <td>%</td>\n",
       "      <td>...</td>\n",
       "      <td>29.9</td>\n",
       "      <td>NaN</td>\n",
       "      <td>NaN</td>\n",
       "      <td>3338.0</td>\n",
       "      <td>(33.5632449633, -86.7640474064)</td>\n",
       "      <td>PREVENT</td>\n",
       "      <td>ACCESS2</td>\n",
       "      <td>107000.0</td>\n",
       "      <td>1.073000e+09</td>\n",
       "      <td>Health Insurance</td>\n",
       "    </tr>\n",
       "    <tr>\n",
       "      <th>61</th>\n",
       "      <td>2015</td>\n",
       "      <td>AL</td>\n",
       "      <td>Alabama</td>\n",
       "      <td>Birmingham</td>\n",
       "      <td>Census Tract</td>\n",
       "      <td>BRFSS</td>\n",
       "      <td>Prevention</td>\n",
       "      <td>0107000-01073000500</td>\n",
       "      <td>Current lack of health insurance among adults ...</td>\n",
       "      <td>%</td>\n",
       "      <td>...</td>\n",
       "      <td>32.0</td>\n",
       "      <td>NaN</td>\n",
       "      <td>NaN</td>\n",
       "      <td>2864.0</td>\n",
       "      <td>(33.5442404594, -86.7749130719)</td>\n",
       "      <td>PREVENT</td>\n",
       "      <td>ACCESS2</td>\n",
       "      <td>107000.0</td>\n",
       "      <td>1.073000e+09</td>\n",
       "      <td>Health Insurance</td>\n",
       "    </tr>\n",
       "    <tr>\n",
       "      <th>62</th>\n",
       "      <td>2015</td>\n",
       "      <td>AL</td>\n",
       "      <td>Alabama</td>\n",
       "      <td>Birmingham</td>\n",
       "      <td>Census Tract</td>\n",
       "      <td>BRFSS</td>\n",
       "      <td>Prevention</td>\n",
       "      <td>0107000-01073000700</td>\n",
       "      <td>Current lack of health insurance among adults ...</td>\n",
       "      <td>%</td>\n",
       "      <td>...</td>\n",
       "      <td>36.7</td>\n",
       "      <td>NaN</td>\n",
       "      <td>NaN</td>\n",
       "      <td>2577.0</td>\n",
       "      <td>(33.5525406139, -86.8016893706)</td>\n",
       "      <td>PREVENT</td>\n",
       "      <td>ACCESS2</td>\n",
       "      <td>107000.0</td>\n",
       "      <td>1.073001e+09</td>\n",
       "      <td>Health Insurance</td>\n",
       "    </tr>\n",
       "  </tbody>\n",
       "</table>\n",
       "<p>5 rows × 24 columns</p>\n",
       "</div>"
      ],
      "text/plain": [
       "    Year StateAbbr StateDesc    CityName GeographicLevel DataSource  \\\n",
       "58  2015        AL   Alabama  Birmingham    Census Tract      BRFSS   \n",
       "59  2015        AL   Alabama  Birmingham    Census Tract      BRFSS   \n",
       "60  2015        AL   Alabama  Birmingham    Census Tract      BRFSS   \n",
       "61  2015        AL   Alabama  Birmingham    Census Tract      BRFSS   \n",
       "62  2015        AL   Alabama  Birmingham    Census Tract      BRFSS   \n",
       "\n",
       "      Category             UniqueID  \\\n",
       "58  Prevention  0107000-01073000100   \n",
       "59  Prevention  0107000-01073000300   \n",
       "60  Prevention  0107000-01073000400   \n",
       "61  Prevention  0107000-01073000500   \n",
       "62  Prevention  0107000-01073000700   \n",
       "\n",
       "                                              Measure Data_Value_Unit  \\\n",
       "58  Current lack of health insurance among adults ...               %   \n",
       "59  Current lack of health insurance among adults ...               %   \n",
       "60  Current lack of health insurance among adults ...               %   \n",
       "61  Current lack of health insurance among adults ...               %   \n",
       "62  Current lack of health insurance among adults ...               %   \n",
       "\n",
       "           ...         High_Confidence_Limit Data_Value_Footnote_Symbol  \\\n",
       "58         ...                          27.2                        NaN   \n",
       "59         ...                          32.4                        NaN   \n",
       "60         ...                          29.9                        NaN   \n",
       "61         ...                          32.0                        NaN   \n",
       "62         ...                          36.7                        NaN   \n",
       "\n",
       "    Data_Value_Footnote  PopulationCount                      GeoLocation  \\\n",
       "58                  NaN           3042.0  (33.5794328326, -86.7228323926)   \n",
       "59                  NaN           2735.0   (33.5428208686, -86.752433978)   \n",
       "60                  NaN           3338.0  (33.5632449633, -86.7640474064)   \n",
       "61                  NaN           2864.0  (33.5442404594, -86.7749130719)   \n",
       "62                  NaN           2577.0  (33.5525406139, -86.8016893706)   \n",
       "\n",
       "   CategoryID MeasureId  CityFIPS     TractFIPS Short_Question_Text  \n",
       "58    PREVENT   ACCESS2  107000.0  1.073000e+09    Health Insurance  \n",
       "59    PREVENT   ACCESS2  107000.0  1.073000e+09    Health Insurance  \n",
       "60    PREVENT   ACCESS2  107000.0  1.073000e+09    Health Insurance  \n",
       "61    PREVENT   ACCESS2  107000.0  1.073000e+09    Health Insurance  \n",
       "62    PREVENT   ACCESS2  107000.0  1.073001e+09    Health Insurance  \n",
       "\n",
       "[5 rows x 24 columns]"
      ]
     },
     "execution_count": 9,
     "metadata": {},
     "output_type": "execute_result"
    }
   ],
   "source": [
    "df.head()"
   ]
  },
  {
   "cell_type": "code",
   "execution_count": 10,
   "metadata": {
    "scrolled": true
   },
   "outputs": [
    {
     "data": {
      "text/plain": [
       "Diagnosed diabetes among adults aged >=18 Years                                                                                                                                                   28004\n",
       "Cholesterol screening among adults aged >=18 Years                                                                                                                                                28004\n",
       "Mental health not good for >=14 days among adults aged >=18 Years                                                                                                                                 28004\n",
       "Current smoking among adults aged >=18 Years                                                                                                                                                      28004\n",
       "High blood pressure among adults aged >=18 Years                                                                                                                                                  28004\n",
       "Cancer (excluding skin cancer) among adults aged >=18 Years                                                                                                                                       28004\n",
       "Current asthma among adults aged >=18 Years                                                                                                                                                       28004\n",
       "Coronary heart disease among adults aged >=18 Years                                                                                                                                               28004\n",
       "Physical health not good for >=14 days among adults aged >=18 Years                                                                                                                               28004\n",
       "Taking medicine for high blood pressure control among adults aged >=18 Years with high blood pressure                                                                                             28004\n",
       "Chronic kidney disease among adults aged >=18 Years                                                                                                                                               28004\n",
       "Binge drinking among adults aged >=18 Years                                                                                                                                                       28004\n",
       "Visits to dentist or dental clinic among adults aged >=18 Years                                                                                                                                   28004\n",
       "Stroke among adults aged >=18 Years                                                                                                                                                               28004\n",
       "Sleeping less than 7 hours among adults aged >=18 Years                                                                                                                                           28004\n",
       "Obesity among adults aged >=18 Years                                                                                                                                                              28004\n",
       "Chronic obstructive pulmonary disease among adults aged >=18 Years                                                                                                                                28004\n",
       "No leisure-time physical activity among adults aged >=18 Years                                                                                                                                    28004\n",
       "Visits to doctor for routine checkup within the past Year among adults aged >=18 Years                                                                                                            28004\n",
       "High cholesterol among adults aged >=18 Years who have been screened in the past 5 Years                                                                                                          28004\n",
       "Arthritis among adults aged >=18 Years                                                                                                                                                            28004\n",
       "Current lack of health insurance among adults aged 18–64 Years                                                                                                                                    27971\n",
       "Papanicolaou smear use among adult women aged 21–65 Years                                                                                                                                         27910\n",
       "Fecal occult blood test, sigmoidoscopy, or colonoscopy among adults aged 50–75 Years                                                                                                              27845\n",
       "Mammography use among women aged 50–74 Years                                                                                                                                                      27725\n",
       "All teeth lost among adults aged >=65 Years                                                                                                                                                       27599\n",
       "Older adult men aged >=65 Years who are up to date on a core set of clinical preventive services: Flu shot past Year, PPV shot ever, Colorectal cancer screening                                  27462\n",
       "Older adult women aged >=65 Years who are up to date on a core set of clinical preventive services: Flu shot past Year, PPV shot ever, Colorectal cancer screening, and Mammogram past 2 Years    27451\n",
       "Name: Measure, dtype: int64"
      ]
     },
     "execution_count": 10,
     "metadata": {},
     "output_type": "execute_result"
    }
   ],
   "source": [
    "df.Measure.value_counts() # these are the potential feature columns\n",
    "### ... I need to pull the Data_Value along with the GeoLocation (as my unique identifier)"
   ]
  },
  {
   "cell_type": "code",
   "execution_count": 11,
   "metadata": {},
   "outputs": [
    {
     "data": {
      "text/plain": [
       "(782047, 24)"
      ]
     },
     "execution_count": 11,
     "metadata": {},
     "output_type": "execute_result"
    }
   ],
   "source": [
    "df.shape"
   ]
  },
  {
   "cell_type": "code",
   "execution_count": 12,
   "metadata": {
    "scrolled": true
   },
   "outputs": [
    {
     "data": {
      "text/plain": [
       "'(33.5794328326, -86.7228323926)'"
      ]
     },
     "execution_count": 12,
     "metadata": {},
     "output_type": "execute_result"
    }
   ],
   "source": [
    "df.GeoLocation[58]"
   ]
  },
  {
   "cell_type": "code",
   "execution_count": 13,
   "metadata": {},
   "outputs": [
    {
     "data": {
      "text/plain": [
       "'-86.7228323926'"
      ]
     },
     "execution_count": 13,
     "metadata": {},
     "output_type": "execute_result"
    }
   ],
   "source": [
    "re.findall(\"-\\d+.\\d+\", df.GeoLocation[58])[0] #Going to use RegEx to creat latitude/longitude cols"
   ]
  },
  {
   "cell_type": "code",
   "execution_count": 14,
   "metadata": {
    "scrolled": false
   },
   "outputs": [
    {
     "name": "stderr",
     "output_type": "stream",
     "text": [
      "/home/ryan/anaconda3/lib/python3.6/site-packages/ipykernel_launcher.py:1: SettingWithCopyWarning: \n",
      "A value is trying to be set on a copy of a slice from a DataFrame.\n",
      "Try using .loc[row_indexer,col_indexer] = value instead\n",
      "\n",
      "See the caveats in the documentation: http://pandas.pydata.org/pandas-docs/stable/indexing.html#indexing-view-versus-copy\n",
      "  \"\"\"Entry point for launching an IPython kernel.\n"
     ]
    }
   ],
   "source": [
    "df['Latitude'] = [float(re.findall(\"(\\d+.\\d+),\", df.GeoLocation[i])[0]) for i in df.index] # regex for lat"
   ]
  },
  {
   "cell_type": "code",
   "execution_count": 15,
   "metadata": {},
   "outputs": [
    {
     "name": "stderr",
     "output_type": "stream",
     "text": [
      "/home/ryan/anaconda3/lib/python3.6/site-packages/ipykernel_launcher.py:1: SettingWithCopyWarning: \n",
      "A value is trying to be set on a copy of a slice from a DataFrame.\n",
      "Try using .loc[row_indexer,col_indexer] = value instead\n",
      "\n",
      "See the caveats in the documentation: http://pandas.pydata.org/pandas-docs/stable/indexing.html#indexing-view-versus-copy\n",
      "  \"\"\"Entry point for launching an IPython kernel.\n"
     ]
    }
   ],
   "source": [
    "df['Longitude'] = [float(re.findall(\"-\\d+.\\d+\", df.GeoLocation[i])[0]) for i in df.index] # regex for long"
   ]
  },
  {
   "cell_type": "code",
   "execution_count": 16,
   "metadata": {
    "scrolled": true
   },
   "outputs": [
    {
     "data": {
      "text/plain": [
       "Diagnosed diabetes among adults aged >=18 Years                                                                                                                                                   28004\n",
       "Cholesterol screening among adults aged >=18 Years                                                                                                                                                28004\n",
       "Mental health not good for >=14 days among adults aged >=18 Years                                                                                                                                 28004\n",
       "Current smoking among adults aged >=18 Years                                                                                                                                                      28004\n",
       "High blood pressure among adults aged >=18 Years                                                                                                                                                  28004\n",
       "Cancer (excluding skin cancer) among adults aged >=18 Years                                                                                                                                       28004\n",
       "Current asthma among adults aged >=18 Years                                                                                                                                                       28004\n",
       "Coronary heart disease among adults aged >=18 Years                                                                                                                                               28004\n",
       "Physical health not good for >=14 days among adults aged >=18 Years                                                                                                                               28004\n",
       "Taking medicine for high blood pressure control among adults aged >=18 Years with high blood pressure                                                                                             28004\n",
       "Chronic kidney disease among adults aged >=18 Years                                                                                                                                               28004\n",
       "Binge drinking among adults aged >=18 Years                                                                                                                                                       28004\n",
       "Visits to dentist or dental clinic among adults aged >=18 Years                                                                                                                                   28004\n",
       "Stroke among adults aged >=18 Years                                                                                                                                                               28004\n",
       "Sleeping less than 7 hours among adults aged >=18 Years                                                                                                                                           28004\n",
       "Obesity among adults aged >=18 Years                                                                                                                                                              28004\n",
       "Chronic obstructive pulmonary disease among adults aged >=18 Years                                                                                                                                28004\n",
       "No leisure-time physical activity among adults aged >=18 Years                                                                                                                                    28004\n",
       "Visits to doctor for routine checkup within the past Year among adults aged >=18 Years                                                                                                            28004\n",
       "High cholesterol among adults aged >=18 Years who have been screened in the past 5 Years                                                                                                          28004\n",
       "Arthritis among adults aged >=18 Years                                                                                                                                                            28004\n",
       "Current lack of health insurance among adults aged 18–64 Years                                                                                                                                    27971\n",
       "Papanicolaou smear use among adult women aged 21–65 Years                                                                                                                                         27910\n",
       "Fecal occult blood test, sigmoidoscopy, or colonoscopy among adults aged 50–75 Years                                                                                                              27845\n",
       "Mammography use among women aged 50–74 Years                                                                                                                                                      27725\n",
       "All teeth lost among adults aged >=65 Years                                                                                                                                                       27599\n",
       "Older adult men aged >=65 Years who are up to date on a core set of clinical preventive services: Flu shot past Year, PPV shot ever, Colorectal cancer screening                                  27462\n",
       "Older adult women aged >=65 Years who are up to date on a core set of clinical preventive services: Flu shot past Year, PPV shot ever, Colorectal cancer screening, and Mammogram past 2 Years    27451\n",
       "Name: Measure, dtype: int64"
      ]
     },
     "execution_count": 16,
     "metadata": {},
     "output_type": "execute_result"
    }
   ],
   "source": [
    "df.Measure.value_counts() # these are the feature columns I need to create\n",
    "### ... I need to pull the Data_Value along with the UniqueID so I can combine the data"
   ]
  },
  {
   "cell_type": "code",
   "execution_count": 17,
   "metadata": {},
   "outputs": [
    {
     "data": {
      "text/plain": [
       "'Diagnosed diabetes among adults aged >=18 Years'"
      ]
     },
     "execution_count": 17,
     "metadata": {},
     "output_type": "execute_result"
    }
   ],
   "source": [
    "df.Measure.value_counts().index[0]"
   ]
  },
  {
   "cell_type": "code",
   "execution_count": 18,
   "metadata": {},
   "outputs": [],
   "source": [
    "measures_of_interest = df.Measure.value_counts().index[0:21] # I am going to pull the data for which all locations have data"
   ]
  },
  {
   "cell_type": "code",
   "execution_count": 19,
   "metadata": {
    "scrolled": true
   },
   "outputs": [],
   "source": [
    "df_list = [df[df[\"Measure\"] == x] for x in measures_of_interest] # making a df for each measure"
   ]
  },
  {
   "cell_type": "code",
   "execution_count": 20,
   "metadata": {},
   "outputs": [],
   "source": [
    "metric_dfs = []\n",
    "for df in df_list:\n",
    "    df.reset_index(inplace=True, drop=True)\n",
    "    temp = pd.DataFrame({df.MeasureId[0]:df.Data_Value, # this is the actual value for the measure\n",
    "                         \"UniqueID\":df.UniqueID,\"geometry\":df.GeoLocation, # UniqueID and geolocation cols\n",
    "                         \"state\":df.StateAbbr, \"population\":df.PopulationCount,\n",
    "                         \"longitude\": df.Longitude, \"latitude\":df.Latitude,})\n",
    "    metric_dfs.append(temp)"
   ]
  },
  {
   "cell_type": "code",
   "execution_count": null,
   "metadata": {},
   "outputs": [],
   "source": []
  },
  {
   "cell_type": "code",
   "execution_count": 21,
   "metadata": {
    "scrolled": false
   },
   "outputs": [
    {
     "data": {
      "text/plain": [
       "28004"
      ]
     },
     "execution_count": 21,
     "metadata": {},
     "output_type": "execute_result"
    }
   ],
   "source": [
    "metric_dfs[0].UniqueID.value_counts().sum()"
   ]
  },
  {
   "cell_type": "code",
   "execution_count": 22,
   "metadata": {},
   "outputs": [],
   "source": [
    "master = pd.merge(metric_dfs[0],metric_dfs[1], how='left',on=\"UniqueID\") # Starting master DF of all metrics dfs"
   ]
  },
  {
   "cell_type": "code",
   "execution_count": 23,
   "metadata": {},
   "outputs": [],
   "source": [
    "for i in metric_dfs[2:]: # merging the rest with a for loop\n",
    "    master = master.merge(i, how = \"left\",on=\"UniqueID\")"
   ]
  },
  {
   "cell_type": "code",
   "execution_count": 24,
   "metadata": {
    "scrolled": true
   },
   "outputs": [
    {
     "data": {
      "text/plain": [
       "Index(['DIABETES', 'UniqueID', 'geometry_x', 'state_x', 'population_x',\n",
       "       'longitude_x', 'latitude_x', 'CHOLSCREEN', 'geometry_y', 'state_y',\n",
       "       ...\n",
       "       'state_y', 'population_y', 'longitude_y', 'latitude_y', 'ARTHRITIS',\n",
       "       'geometry', 'state', 'population', 'longitude', 'latitude'],\n",
       "      dtype='object', length=127)"
      ]
     },
     "execution_count": 24,
     "metadata": {},
     "output_type": "execute_result"
    }
   ],
   "source": [
    "master.columns"
   ]
  },
  {
   "cell_type": "code",
   "execution_count": 25,
   "metadata": {},
   "outputs": [],
   "source": [
    "master = master.T.drop_duplicates().T # dropping dup columns"
   ]
  },
  {
   "cell_type": "code",
   "execution_count": 26,
   "metadata": {},
   "outputs": [
    {
     "data": {
      "text/plain": [
       "Index(['DIABETES', 'UniqueID', 'geometry_x', 'state_x', 'population_x',\n",
       "       'longitude_x', 'latitude_x', 'CHOLSCREEN', 'MHLTH', 'CSMOKING',\n",
       "       'BPHIGH', 'CANCER', 'CASTHMA', 'CHD', 'PHLTH', 'BPMED', 'KIDNEY',\n",
       "       'BINGE', 'DENTAL', 'STROKE', 'SLEEP', 'OBESITY', 'COPD', 'LPA',\n",
       "       'CHECKUP', 'HIGHCHOL', 'ARTHRITIS'],\n",
       "      dtype='object')"
      ]
     },
     "execution_count": 26,
     "metadata": {},
     "output_type": "execute_result"
    }
   ],
   "source": [
    "master.columns"
   ]
  },
  {
   "cell_type": "code",
   "execution_count": 27,
   "metadata": {},
   "outputs": [],
   "source": [
    "master.rename({\"geometry_x\":\"geometry\",\"state_x\":\"state\",\"population_x\":\"population\",\"longitude_x\":\"longitude\",\n",
    "              \"latitude_x\":\"latitude\"}, axis = 1, inplace = True)"
   ]
  },
  {
   "cell_type": "code",
   "execution_count": 28,
   "metadata": {},
   "outputs": [
    {
     "data": {
      "text/plain": [
       "'01070'"
      ]
     },
     "execution_count": 28,
     "metadata": {},
     "output_type": "execute_result"
    }
   ],
   "source": [
    "master.UniqueID[0][0:5] #The 5 digit fips codes can be pulled from the first 5 indices of the unique ID\n",
    "##... using this to aggregate data to the county level, since thats the income data I have"
   ]
  },
  {
   "cell_type": "code",
   "execution_count": 29,
   "metadata": {},
   "outputs": [],
   "source": [
    "master[\"fips\"] = [x[0:5] for x in master.UniqueID] # list comprehension to add county fips to all rows"
   ]
  },
  {
   "cell_type": "code",
   "execution_count": 30,
   "metadata": {
    "scrolled": true
   },
   "outputs": [
    {
     "data": {
      "text/plain": [
       "((27204, 28), (28004, 28))"
      ]
     },
     "execution_count": 30,
     "metadata": {},
     "output_type": "execute_result"
    }
   ],
   "source": [
    "master.dropna().shape, master.shape"
   ]
  },
  {
   "cell_type": "code",
   "execution_count": 31,
   "metadata": {},
   "outputs": [],
   "source": [
    "master.dropna(inplace=True)"
   ]
  },
  {
   "cell_type": "code",
   "execution_count": 40,
   "metadata": {},
   "outputs": [],
   "source": [
    "#master.to_csv(\"./tract_health_data_final.csv\")"
   ]
  },
  {
   "cell_type": "code",
   "execution_count": 65,
   "metadata": {
    "scrolled": true
   },
   "outputs": [
    {
     "data": {
      "text/plain": [
       "Index(['DIABETES', 'UniqueID', 'geometry', 'state', 'population', 'longitude',\n",
       "       'latitude', 'CHOLSCREEN', 'MHLTH', 'CSMOKING', 'BPHIGH', 'CANCER',\n",
       "       'CASTHMA', 'CHD', 'PHLTH', 'BPMED', 'KIDNEY', 'BINGE', 'DENTAL',\n",
       "       'STROKE', 'SLEEP', 'OBESITY', 'COPD', 'LPA', 'CHECKUP', 'HIGHCHOL',\n",
       "       'ARTHRITIS', 'fips'],\n",
       "      dtype='object')"
      ]
     },
     "execution_count": 65,
     "metadata": {},
     "output_type": "execute_result"
    }
   ],
   "source": [
    "master.columns"
   ]
  },
  {
   "cell_type": "code",
   "execution_count": 66,
   "metadata": {},
   "outputs": [],
   "source": [
    "#dropping these columns since I am aggregating on fips code (County)\n",
    "clean_master = master.drop([\"UniqueID\", \"geometry\",\"population\",\"latitude\",\"longitude\",\"state\"], axis = 1)"
   ]
  },
  {
   "cell_type": "code",
   "execution_count": 67,
   "metadata": {
    "scrolled": true
   },
   "outputs": [
    {
     "data": {
      "text/plain": [
       "Index(['DIABETES', 'CHOLSCREEN', 'MHLTH', 'CSMOKING', 'BPHIGH', 'CANCER',\n",
       "       'CASTHMA', 'CHD', 'PHLTH', 'BPMED', 'KIDNEY', 'BINGE', 'DENTAL',\n",
       "       'STROKE', 'SLEEP', 'OBESITY', 'COPD', 'LPA', 'CHECKUP', 'HIGHCHOL',\n",
       "       'ARTHRITIS', 'fips'],\n",
       "      dtype='object')"
      ]
     },
     "execution_count": 67,
     "metadata": {},
     "output_type": "execute_result"
    }
   ],
   "source": [
    "clean_master.columns"
   ]
  },
  {
   "cell_type": "code",
   "execution_count": 69,
   "metadata": {
    "scrolled": true
   },
   "outputs": [],
   "source": [
    "for col in ['DIABETES', 'CHOLSCREEN', 'MHLTH', 'CSMOKING', 'BPHIGH', 'CANCER',\n",
    "       'CASTHMA', 'CHD', 'PHLTH', 'BPMED', 'KIDNEY', 'BINGE', 'DENTAL',\n",
    "       'STROKE', 'SLEEP', 'OBESITY', 'COPD', 'LPA', 'CHECKUP', 'HIGHCHOL',\n",
    "       'ARTHRITIS']:\n",
    "    clean_master[col] = clean_master[col].astype(float) # need to change from 'object' to 'float'"
   ]
  },
  {
   "cell_type": "code",
   "execution_count": 70,
   "metadata": {},
   "outputs": [],
   "source": [
    "agg_data = clean_master.groupby(\"fips\").mean()"
   ]
  },
  {
   "cell_type": "code",
   "execution_count": 71,
   "metadata": {},
   "outputs": [],
   "source": [
    "agg_data.reset_index(drop=False, inplace=True)"
   ]
  },
  {
   "cell_type": "code",
   "execution_count": 75,
   "metadata": {
    "scrolled": true
   },
   "outputs": [],
   "source": [
    "agg_data[\"fips\"] = agg_data['fips'].astype(str) # format for export"
   ]
  },
  {
   "cell_type": "code",
   "execution_count": 76,
   "metadata": {},
   "outputs": [],
   "source": [
    "#agg_data.to_csv(\"./agg_county_data_final.csv\")"
   ]
  }
 ],
 "metadata": {
  "kernelspec": {
   "display_name": "Python 3",
   "language": "python",
   "name": "python3"
  },
  "language_info": {
   "codemirror_mode": {
    "name": "ipython",
    "version": 3
   },
   "file_extension": ".py",
   "mimetype": "text/x-python",
   "name": "python",
   "nbconvert_exporter": "python",
   "pygments_lexer": "ipython3",
   "version": "3.6.5"
  }
 },
 "nbformat": 4,
 "nbformat_minor": 2
}
